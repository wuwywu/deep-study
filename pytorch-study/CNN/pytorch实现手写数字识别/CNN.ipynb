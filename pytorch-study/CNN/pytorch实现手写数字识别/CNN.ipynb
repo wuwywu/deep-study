{
 "cells": [
  {
   "cell_type": "code",
   "execution_count": 2,
   "metadata": {},
   "outputs": [],
   "source": [
    "from mnist import MnistDataset as MD\n",
    "import torch\n",
    "import torch.nn as nn\n",
    "import matplotlib.pyplot as plt\n",
    "import numpy as np"
   ]
  },
  {
   "cell_type": "code",
   "execution_count": 3,
   "metadata": {},
   "outputs": [
    {
     "name": "stdout",
     "output_type": "stream",
     "text": [
      "dataset_images is existing\n",
      "dataset_labels is existing\n"
     ]
    }
   ],
   "source": [
    "# 导入手写数据集\n",
    "md = MD(flatten=False)"
   ]
  },
  {
   "cell_type": "code",
   "execution_count": 4,
   "metadata": {},
   "outputs": [],
   "source": [
    "label, im, target = md[0:1000]"
   ]
  },
  {
   "cell_type": "code",
   "execution_count": 5,
   "metadata": {},
   "outputs": [
    {
     "data": {
      "text/plain": [
       "torch.Size([1000, 1, 28, 28])"
      ]
     },
     "execution_count": 5,
     "metadata": {},
     "output_type": "execute_result"
    }
   ],
   "source": [
    "im.shape"
   ]
  },
  {
   "cell_type": "code",
   "execution_count": 6,
   "metadata": {},
   "outputs": [
    {
     "data": {
      "text/plain": [
       "<matplotlib.image.AxesImage at 0x1c2ca08c520>"
      ]
     },
     "execution_count": 6,
     "metadata": {},
     "output_type": "execute_result"
    },
    {
     "data": {
      "image/png": "[encoded data removed]",
      "text/plain": [
       "<Figure size 640x480 with 1 Axes>"
      ]
     },
     "metadata": {},
     "output_type": "display_data"
    }
   ],
   "source": [
    "plt.imshow(np.array(im[1].permute(1,2,0)))"
   ]
  },
  {
   "attachments": {},
   "cell_type": "markdown",
   "metadata": {},
   "source": [
    "# 建立网络"
   ]
  },
  {
   "cell_type": "code",
   "execution_count": 45,
   "metadata": {},
   "outputs": [],
   "source": [
    "class View(nn.Module):\n",
    "    def __init__(self, shape):\n",
    "        super().__init__()\n",
    "        self.shape = shape\n",
    "\n",
    "    def forward(self, x):\n",
    "        return x.view(*self.shape)"
   ]
  },
  {
   "cell_type": "code",
   "execution_count": 51,
   "metadata": {},
   "outputs": [],
   "source": [
    "class CNN_write(nn.Module):\n",
    "    def __init__(self, batch_num):\n",
    "        super().__init__()\n",
    "\n",
    "        # 定义神经网络层\n",
    "        self.model = nn.Sequential(\n",
    "            nn.Conv2d(1,16,kernel_size=3,stride=1,padding=1),\n",
    "            nn.ReLU(),\n",
    "            nn.Conv2d(16,16,kernel_size=3,stride=1,padding=1),\n",
    "            nn.ReLU(),\n",
    "            nn.MaxPool2d(2,stride=2),\n",
    "            nn.Conv2d(16,32,kernel_size=3,stride=1,padding=1),\n",
    "            nn.ReLU(),\n",
    "            nn.Conv2d(32,32,kernel_size=3,stride=1,padding=2),\n",
    "            nn.ReLU(),\n",
    "            nn.MaxPool2d(2,stride=2),\n",
    "            nn.Conv2d(32,64,kernel_size=3,stride=1,padding=1),\n",
    "            nn.ReLU(),\n",
    "            nn.Conv2d(64,64,kernel_size=3,stride=1,padding=1),\n",
    "            nn.ReLU(),\n",
    "            nn.MaxPool2d(2,stride=2),\n",
    "            View((batch_num,-1)),\n",
    "            nn.Linear(64*4*4, 50),\n",
    "            nn.ReLU(),\n",
    "            nn.Dropout(0.5),\n",
    "            nn.Linear(50, 10),\n",
    "            # nn.Softmax(dim=1)\n",
    "            # nn.LogSoftmax(dim=1)\n",
    "        )\n",
    "\n",
    "        # 定义损失函数(loss)\n",
    "        # self.loss_function = nn.BCELoss()\n",
    "        # self.loss_function = nn.NLLLoss()\n",
    "        self.loss_function = nn.CrossEntropyLoss(reduction=\"none\")\n",
    "\n",
    "        # 定义优化器\n",
    "\n",
    "    def forward(self, x):\n",
    "        return self.model(x)\n",
    "    \n",
    "    def train():\n",
    "        pass"
   ]
  },
  {
   "cell_type": "code",
   "execution_count": 58,
   "metadata": {},
   "outputs": [
    {
     "data": {
      "text/plain": [
       "tensor([2.7688, 2.3129, 2.3105, 2.1873, 2.3917, 2.1311, 1.9950, 2.0141, 2.2453,\n",
       "        2.2979, 2.4047, 2.9356, 1.9890, 2.7188, 2.2382, 2.1446, 2.2876, 2.3269,\n",
       "        2.4709, 2.2464, 2.2634, 3.0060, 2.5130, 2.3433, 2.3536, 2.2798, 2.1251,\n",
       "        2.4386, 2.2367, 2.3420, 2.2538, 2.3919, 2.5127, 2.6422, 2.0280, 2.7173,\n",
       "        2.4279, 2.0491, 2.2688, 2.4049, 2.1759, 2.1002, 2.3373, 2.8011, 2.1263,\n",
       "        2.7148, 2.2613, 3.0174, 2.6842, 2.5809, 2.0776, 1.8999, 2.6648, 2.3883,\n",
       "        2.4437, 2.1436, 1.5532, 2.4044, 2.3723, 2.0695, 2.1953, 2.2405, 2.5126,\n",
       "        2.7158, 2.3450, 1.9155, 2.0488, 2.3114, 1.9134, 2.2367, 2.2844, 2.4072,\n",
       "        2.1749, 2.3748, 2.2413, 1.8572, 2.2024, 2.3420, 2.5199, 2.3475, 2.4008,\n",
       "        2.4031, 2.3338, 2.4860, 2.3376, 2.1070, 2.4047, 2.6621, 2.1123, 2.4224,\n",
       "        2.6753, 2.1605, 2.5414, 2.4698, 1.9896, 1.8562, 2.4298, 2.2316, 2.5782,\n",
       "        2.3005, 2.0130, 2.3161, 2.2219, 2.2510, 2.2269, 2.1730, 2.4815, 2.0884,\n",
       "        1.7229, 2.1119, 2.5195, 2.4380, 2.2532, 2.6852, 2.8610, 2.4088, 2.7680,\n",
       "        2.2160, 2.0354, 1.7332, 2.0818, 2.1804, 2.5703, 2.4182, 2.5721, 2.5458,\n",
       "        2.8749, 2.1886, 2.6276, 2.1178, 1.8873, 2.5269, 2.3363, 2.3906, 2.0129,\n",
       "        2.2710, 2.2961, 1.9288, 2.1014, 2.6157, 2.3438, 2.2835, 2.5029, 2.2570,\n",
       "        2.1836, 2.3150, 1.9796, 2.5730, 2.4091, 1.8979, 2.3135, 2.2844, 2.5323,\n",
       "        2.3489, 2.3280, 2.8017, 2.6043, 2.8482, 2.2228, 2.3115, 2.5951, 2.5674,\n",
       "        2.7200, 2.0256, 2.3500, 2.5950, 2.2532, 2.3975, 2.5312, 1.9805, 2.6333,\n",
       "        2.5141, 2.5733, 2.3888, 2.2697, 1.8795, 2.3450, 2.2436, 2.0481, 2.1911,\n",
       "        2.1554, 2.5816, 2.8632, 2.4333, 2.0580, 2.1943, 2.9761, 2.0566, 2.2993,\n",
       "        2.2646, 2.2452, 2.4378, 2.3222, 2.3461, 2.5955, 2.4223, 2.4703, 2.2831,\n",
       "        1.8385, 2.3010, 2.3388, 2.1370, 2.0973, 2.8057, 2.3537, 2.3123, 1.8508,\n",
       "        2.8373, 2.5844, 1.7928, 2.4177, 2.4041, 2.4359, 2.7029, 2.5403, 2.3121,\n",
       "        2.3070, 2.0748, 2.6280, 2.1049, 2.5876, 2.5474, 2.5428, 2.3560, 2.1875,\n",
       "        2.1554, 2.1885, 2.4799, 2.3983, 2.3013, 2.2481, 2.3094, 2.0784, 1.9215,\n",
       "        2.2850, 2.1215, 2.5763, 2.5862, 2.3853, 2.4814, 2.3398, 2.3017, 2.0645,\n",
       "        2.2102, 2.2507, 2.2369, 1.9584, 2.3686, 2.1900, 2.5818, 2.6016, 2.4221,\n",
       "        2.3171, 2.3357, 2.5330, 2.3072, 2.5583, 2.7250, 2.4510, 2.8813, 2.5003,\n",
       "        2.6852, 2.4779, 2.4162, 2.6224, 2.1691, 2.4308, 2.6731, 2.2099, 2.2572,\n",
       "        2.5814, 2.2742, 2.4191, 2.5404, 2.3717, 1.9660, 2.1315, 2.3622, 2.9956,\n",
       "        2.2006, 2.1161, 2.0550, 2.3773, 1.8449, 2.1897, 2.6082, 2.8306, 2.4350,\n",
       "        2.0708, 2.0421, 2.3958, 2.5108, 2.3225, 2.2644, 2.1208, 2.3130, 2.4128,\n",
       "        2.1735, 2.6599, 2.6129, 1.9034, 2.4884, 2.3806, 2.4775, 2.4188, 2.3889,\n",
       "        2.6151, 2.1251, 2.2518, 2.1246, 2.4309, 2.2765, 2.2218, 2.4071, 2.3638,\n",
       "        2.4140, 2.2501, 2.1131, 2.5508, 2.4911, 2.2230, 2.2526, 2.4995, 3.0245,\n",
       "        2.3272, 2.0436, 2.3729, 2.3623, 2.6483, 2.1879, 2.5312, 2.8405, 2.7377,\n",
       "        2.2364, 2.2731, 2.3151, 2.5068, 2.6674, 2.2480, 2.3864, 2.3213, 1.8851,\n",
       "        2.3918, 2.2728, 2.3353, 2.3341, 2.4325, 1.9596, 2.2405, 2.5420, 2.8076,\n",
       "        2.4157, 2.4322, 2.5189, 2.1484, 2.4926, 2.6104, 2.5858, 2.4605, 2.5672,\n",
       "        2.3763, 2.0030, 2.3737, 2.0690, 2.2177, 1.9341, 2.3310, 2.2061, 2.0618,\n",
       "        2.3923, 2.0010, 2.2808, 2.6435, 2.4661, 2.5778, 2.2546, 2.2102, 2.4246,\n",
       "        2.3150, 2.3633, 2.2753, 2.4961, 2.4781, 2.6260, 2.3740, 2.3682, 2.4725,\n",
       "        2.3508, 2.3174, 2.6523, 2.5749, 2.0146, 2.1880, 2.0667, 2.5376, 2.4318,\n",
       "        2.4706, 2.3236, 2.3534, 2.0786, 2.4379, 1.9537, 2.4429, 2.2294, 2.0879,\n",
       "        2.4473, 2.4092, 2.0601, 2.3577, 2.4353, 2.3683, 2.3035, 2.4341, 2.2628,\n",
       "        2.1643, 1.9905, 2.4279, 2.0667, 2.5578, 2.5516, 2.6572, 2.3631, 2.2578,\n",
       "        2.6097, 2.4732, 2.1306, 2.5266, 2.1874, 2.5799, 2.1083, 2.4134, 2.5689,\n",
       "        2.0995, 2.1161, 2.5865, 1.8562, 2.3835, 2.6726, 2.6163, 2.4018, 2.7902,\n",
       "        2.6198, 2.2480, 2.4435, 2.1744, 2.8064, 2.3748, 2.4620, 2.1939, 2.6852,\n",
       "        2.3319, 1.9229, 2.3690, 2.2146, 2.1525, 2.3480, 2.2367, 1.9996, 1.7287,\n",
       "        2.3009, 2.7909, 2.2320, 1.8700, 2.0422, 2.1328, 2.6441, 2.4528, 2.2736,\n",
       "        2.4164, 2.3815, 2.3747, 2.2953, 2.2299, 1.8306, 2.3310, 2.5258, 2.4212,\n",
       "        2.3744, 2.2727, 2.1644, 2.6098, 2.3850, 2.5489, 2.5957, 2.2183, 2.4888,\n",
       "        2.0974, 2.5377, 2.5560, 2.7217, 2.2196, 2.4628, 2.4166, 2.3871, 2.6675,\n",
       "        2.2292, 2.0933, 2.3052, 2.3698, 2.3343, 2.0719, 2.5590, 2.2612, 2.5433,\n",
       "        2.2817, 2.4857, 2.6188, 2.4389, 2.4854, 2.3095, 2.2990, 2.4550, 2.2866,\n",
       "        1.9769, 2.3252, 2.3073, 2.4212, 2.0540, 2.4584, 1.5595, 2.3413, 2.3946,\n",
       "        2.3561, 1.9627, 1.7100, 2.6876, 2.8941, 2.2595, 1.6781, 2.5499, 2.3496,\n",
       "        2.4906, 1.7967, 2.5176, 2.6217, 2.6993, 2.7175, 2.3368, 2.3995, 2.1643,\n",
       "        2.0449, 2.0753, 2.3733, 2.5927, 2.1007, 2.7783, 2.5757, 2.3917, 1.9882,\n",
       "        2.5280, 2.4700, 2.3948, 2.3172, 2.1773, 2.7414, 2.6553, 2.2193, 2.0532,\n",
       "        2.3136, 2.0644, 2.2446, 2.2282, 2.4928, 2.0908, 2.4014, 2.8013, 2.5285,\n",
       "        2.5540, 2.3247, 2.4347, 2.1094, 2.4924, 2.4100, 2.5515, 2.3895, 2.3925,\n",
       "        2.3272, 2.4463, 2.6110, 2.7043, 2.6737, 2.4913, 2.1390, 2.4679, 2.3522,\n",
       "        2.3911, 2.3486, 2.2004, 2.1852, 2.9369, 2.4437, 2.4249, 2.4324, 2.1239,\n",
       "        1.9266, 2.3849, 1.6690, 2.6378, 1.8713, 2.2952, 2.7111, 2.8290, 2.5839,\n",
       "        2.0097, 2.2118, 2.3361, 2.2173, 2.0659, 2.4291, 2.2597, 2.0092, 2.2558,\n",
       "        1.7785, 2.1190, 2.5406, 2.3550, 2.2036, 2.4113, 2.2073, 2.1115, 2.5061,\n",
       "        2.4560, 2.1192, 2.2483, 2.2733, 2.4112, 2.5032, 2.0106, 2.2911, 1.6926,\n",
       "        2.2100, 2.2642, 2.3421, 2.4727, 2.3223, 2.2803, 2.2919, 2.1051, 2.2118,\n",
       "        2.3436, 2.4355, 2.3506, 2.7755, 2.5387, 2.1394, 2.2528, 2.3468, 2.1367,\n",
       "        2.5416, 2.6759, 2.1027, 2.2983, 2.5860, 2.4388, 2.4166, 2.4936, 1.6349,\n",
       "        2.2638, 2.5212, 2.2903, 2.6087, 2.1708, 1.9755, 2.3659, 2.4609, 2.1222,\n",
       "        2.5204, 1.7370, 2.9389, 2.1766, 2.5055, 2.1882, 2.2141, 2.7048, 2.5981,\n",
       "        2.5535, 2.3048, 2.1489, 2.2581, 2.5507, 2.3249, 2.5022, 2.3702, 2.4178,\n",
       "        2.1877, 2.3742, 2.2733, 3.0234, 2.6035, 2.8149, 2.6658, 2.0576, 2.3131,\n",
       "        1.9647, 2.1910, 2.6852, 2.3582, 2.0904, 2.1892, 2.6339, 2.2055, 2.3708,\n",
       "        2.1076, 2.6152, 2.5195, 2.4989, 2.2916, 2.9427, 2.2656, 2.4268, 2.2596,\n",
       "        2.2872, 2.0629, 2.4072, 2.5657, 2.1527, 2.5201, 1.8200, 2.2817, 2.3784,\n",
       "        2.3798, 2.4974, 2.2718, 2.5830, 2.3625, 2.5447, 2.2402, 2.7342, 2.3874,\n",
       "        2.6577, 2.4657, 2.0904, 2.4222, 1.9530, 2.6950, 2.2319, 2.3961, 2.1828,\n",
       "        2.0920, 2.5380, 2.3847, 2.5181, 2.2344, 2.2739, 2.2237, 2.6635, 2.1626,\n",
       "        2.2519, 2.1854, 2.2083, 2.4048, 2.3043, 2.0667, 2.3347, 2.3286, 2.3295,\n",
       "        2.1906, 2.1356, 1.7549, 2.6229, 2.4337, 2.0468, 2.4158, 2.5385, 2.6114,\n",
       "        2.4649, 2.2595, 2.2360, 2.0101, 2.4381, 2.3189, 2.2966, 2.2022, 2.4560,\n",
       "        2.2750, 2.8182, 2.4025, 2.4486, 2.3500, 2.5411, 2.1831, 1.6451, 2.5011,\n",
       "        2.3409, 2.5440, 2.1854, 2.1618, 2.2432, 2.3647, 1.9677, 1.9261, 2.2638,\n",
       "        1.9509, 2.5575, 2.4671, 2.2239, 2.3576, 2.1937, 2.4629, 2.3254, 2.6747,\n",
       "        2.2266, 2.5865, 2.1573, 2.4265, 2.1619, 2.8657, 2.2569, 1.9679, 2.3108,\n",
       "        2.6288, 2.0391, 2.5491, 2.2212, 2.1028, 2.2541, 2.0632, 1.8171, 2.2056,\n",
       "        2.3199, 2.3864, 2.5157, 2.4379, 2.6193, 2.3167, 2.0040, 2.3054, 2.1554,\n",
       "        2.4522, 2.6139, 2.1186, 2.1034, 2.4811, 2.2230, 2.2185, 2.2471, 2.4528,\n",
       "        2.1870, 2.3423, 2.2876, 2.0872, 2.2235, 2.3858, 2.2890, 2.6272, 2.4142,\n",
       "        2.4631, 1.9856, 2.0518, 2.5848, 2.1615, 2.0768, 2.3242, 2.4123, 2.2412,\n",
       "        2.6305, 2.1809, 2.1340, 2.2188, 2.5096, 2.1994, 2.6249, 2.2656, 2.3547,\n",
       "        2.2701, 2.0000, 2.0957, 2.8178, 2.2034, 2.4968, 2.0450, 2.2890, 1.4114,\n",
       "        2.2410, 2.6718, 2.1343, 2.0921, 1.8575, 2.2799, 2.1952, 2.4543, 2.3728,\n",
       "        1.8666, 2.5016, 2.3606, 2.0837, 2.3550, 2.3176, 2.2748, 1.8609, 1.9389,\n",
       "        2.4443, 2.2075, 2.6494, 2.5956, 2.6954, 2.5176, 2.3452, 2.3706, 2.5239,\n",
       "        2.6184, 2.4061, 2.5687, 2.1132, 2.4121, 2.3896, 2.3125, 2.2168, 2.4004,\n",
       "        2.6808, 2.7229, 2.5231, 2.4927, 2.0610, 2.2139, 2.7517, 2.9156, 2.4663,\n",
       "        2.4192, 2.1336, 2.3142, 2.4510, 2.4151, 2.7074, 1.9369, 2.5154, 2.2775,\n",
       "        1.8597, 2.3350, 2.6430, 2.1938, 2.2878, 2.8426, 2.5768, 2.2629, 2.1299,\n",
       "        2.3779, 2.3768, 2.3988, 2.0850, 2.4164, 2.3310, 2.6360, 2.5163, 2.5544,\n",
       "        2.1788, 2.0501, 2.7764, 2.3389, 1.9775, 2.3599, 2.3170, 1.9242, 1.8976,\n",
       "        2.2483, 2.6259, 3.0062, 2.2662, 2.9535, 2.4879, 2.2325, 2.5165, 2.2873,\n",
       "        2.5429, 2.6453, 2.2061, 2.1194, 2.6582, 2.2343, 2.5548, 2.5325, 2.3857,\n",
       "        2.3139, 2.2851, 2.8413, 2.2843, 2.1665, 2.1436, 2.1815, 2.2109, 2.5793,\n",
       "        2.6250, 2.0897, 1.8671, 2.3488, 2.4056, 2.1300, 2.2505, 2.1375, 2.2932,\n",
       "        2.3984, 2.0891, 2.5220, 2.2157, 2.4760, 2.1438, 2.7018, 2.1337, 2.2837,\n",
       "        2.5698], grad_fn=<NegBackward0>)"
      ]
     },
     "execution_count": 58,
     "metadata": {},
     "output_type": "execute_result"
    }
   ],
   "source": [
    "batch_num = 1000\n",
    "CNN = CNN_write(batch_num)\n",
    "# CNN.train()\n",
    "# CNN.eval()\n",
    "# CNN.training = False\n",
    "# CNN.training\n",
    "# CNN(im).shape\n",
    "o = CNN(im)\n",
    "# print(o)\n",
    "# print(list(CNN.model.parameters()))\n",
    "# print(list(CNN.model.named_parameters()))\n",
    "# print(list(CNN.model.state_dict()))\n",
    "CNN.loss_function(o,target)"
   ]
  },
  {
   "cell_type": "code",
   "execution_count": null,
   "metadata": {},
   "outputs": [],
   "source": []
  }
 ],
 "metadata": {
  "kernelspec": {
   "display_name": "Python 3",
   "language": "python",
   "name": "python3"
  },
  "language_info": {
   "codemirror_mode": {
    "name": "ipython",
    "version": 3
   },
   "file_extension": ".py",
   "mimetype": "text/x-python",
   "name": "python",
   "nbconvert_exporter": "python",
   "pygments_lexer": "ipython3",
   "version": "3.9.12"
  },
  "orig_nbformat": 4
 },
 "nbformat": 4,
 "nbformat_minor": 2
}
