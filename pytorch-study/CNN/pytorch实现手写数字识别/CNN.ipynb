{
 "cells": [
  {
   "cell_type": "code",
   "execution_count": 677,
   "metadata": {},
   "outputs": [],
   "source": [
    "from mnist import MnistDataset as MD\n",
    "import torch\n",
    "import torch.nn as nn\n",
    "import matplotlib.pyplot as plt\n",
    "import numpy as np"
   ]
  },
  {
   "cell_type": "code",
   "execution_count": 678,
   "metadata": {},
   "outputs": [],
   "source": [
    "# GPU usage #########################################\n",
    "# dtype = torch.FloatTensor # uncomment if you are using CPU\n",
    "# dtype = torch.cuda.FloatTensor # uncomment if you are using GPU\n",
    "device = torch.device(\"cuda:0\" if torch.cuda.is_available() else \"cpu\")\n",
    "# device = torch.device(\"cpu\")\n",
    "\n",
    "# 随机种子\n",
    "torch.manual_seed(3)\n",
    "np.random.seed(3)"
   ]
  },
  {
   "cell_type": "code",
   "execution_count": 679,
   "metadata": {},
   "outputs": [
    {
     "name": "stdout",
     "output_type": "stream",
     "text": [
      "dataset_images is existing\n",
      "dataset_labels is existing\n",
      "dataset_images is existing\n",
      "dataset_labels is existing\n"
     ]
    }
   ],
   "source": [
    "# 导入手写数据集\n",
    "md_trian = MD(flatten=False)\n",
    "md_eval =  MD(trian=False, flatten=False)"
   ]
  },
  {
   "attachments": {},
   "cell_type": "markdown",
   "metadata": {},
   "source": [
    "# 建立网络"
   ]
  },
  {
   "cell_type": "code",
   "execution_count": 680,
   "metadata": {},
   "outputs": [],
   "source": [
    "class View(nn.Module):\n",
    "    def __init__(self, shape):\n",
    "        super().__init__()\n",
    "        self.shape = shape\n",
    "\n",
    "    def forward(self, x):\n",
    "        return x.view(*self.shape)"
   ]
  },
  {
   "cell_type": "code",
   "execution_count": 681,
   "metadata": {},
   "outputs": [],
   "source": [
    "class CNN_write(nn.Module):\n",
    "    def __init__(self, batch_num=1, lr=1e-3):\n",
    "        super().__init__()\n",
    "        self.batch_num = batch_num\n",
    "        # 定义神经网络层\n",
    "        self.model = nn.Sequential(\n",
    "            nn.Conv2d(1,16,kernel_size=3,stride=1,padding=1),\n",
    "            nn.ReLU(),\n",
    "            nn.Conv2d(16,16,kernel_size=3,stride=1,padding=1),\n",
    "            nn.ReLU(),\n",
    "            nn.MaxPool2d(2,stride=2),\n",
    "            nn.Conv2d(16,32,kernel_size=3,stride=1,padding=1),\n",
    "            nn.ReLU(),\n",
    "            nn.Conv2d(32,32,kernel_size=3,stride=1,padding=2),\n",
    "            nn.ReLU(),\n",
    "            nn.MaxPool2d(2,stride=2),\n",
    "            nn.Conv2d(32,64,kernel_size=3,stride=1,padding=1),\n",
    "            nn.ReLU(),\n",
    "            nn.Conv2d(64,64,kernel_size=3,stride=1,padding=1),\n",
    "            nn.ReLU(),\n",
    "            nn.MaxPool2d(2,stride=2),\n",
    "            View((batch_num,-1)),\n",
    "            nn.Linear(64*4*4, 50),\n",
    "            nn.ReLU(),\n",
    "            nn.Dropout(0.5),\n",
    "            nn.Linear(50, 10),\n",
    "            # nn.Softmax(dim=1)\n",
    "            # nn.LogSoftmax(dim=1)\n",
    "        )\n",
    "\n",
    "        # 初始化参量\n",
    "        # self.init_weight()\n",
    "\n",
    "        # 定义损失函数(loss)\n",
    "        # self.loss_function = nn.BCELoss()\n",
    "        # self.loss_function = nn.NLLLoss()     # 配合LogSoftmax()，使用标记而不是one-hot\n",
    "        self.loss_function = nn.CrossEntropyLoss()  # reduction=\"none\" \n",
    "\n",
    "        # 定义优化器\n",
    "        # self.optimiser = torch.optim.SGD(self.parameters(),lr=lr)\n",
    "        self.optimiser = torch.optim.Adam(self.parameters(),lr=lr)\n",
    "\n",
    "        # 计数器,loss进程记录,accuracy进程记录\n",
    "        self.counter = 0\n",
    "        self.LOSSprogress = []\n",
    "        self.ACCprogress = []\n",
    "\n",
    "    def init_weight(self):\n",
    "        # modules() : Returns an iterator over all modules in the network.\n",
    "        a = 1000\n",
    "        for m in self.modules():\n",
    "            if isinstance(m, nn.Conv2d):\n",
    "                n = a*m.kernel_size[0]*m.kernel_size[1]*m.in_channels\n",
    "                wight_init_scales = np.sqrt(2.0/n)\n",
    "                # m.weight.data = torch.sqrt(2./n)*torch.normal(mean=0, std=1,size=m.weight.shape)\n",
    "                with torch.no_grad():\n",
    "                    m.weight.normal_(0, wight_init_scales) # 0, np.sqrt(2./n)\n",
    "                    # m.weight.uniform_(-0.0005,0.0005)\n",
    "                torch.nn.init.kaiming_normal_(m.weight,nonlinearity='relu') # He初始化\n",
    "                if m.bias is not None:\n",
    "                    with torch.no_grad():\n",
    "                        m.bias.zero_()\n",
    "                        # m.bias.uniform_(-0.1,0.1)\n",
    "                    # torch.nn.init.uniform_(m.bias, -0.1, 0.1)\n",
    "\n",
    "            if isinstance(m, nn.Linear):\n",
    "                n = a*m.in_features\n",
    "                wight_init_scales = np.sqrt(2.0/n)\n",
    "                # m.weight.data = torch.sqrt(2./n)*torch.normal(mean=0, std=1,size=m.weight.shape)\n",
    "                with torch.no_grad():\n",
    "                    m.weight.normal_(0, wight_init_scales) # 0, np.sqrt(2./n)\n",
    "                    # m.weight.uniform_(-0.01,0.01)\n",
    "                # torch.nn.init.kaiming_normal_(m.weight,nonlinearity='relu')\n",
    "                if m.bias is not None:\n",
    "                    with torch.no_grad():\n",
    "                        m.bias.zero_()\n",
    "                        # m.bias.uniform_(-0.1,0.1)\n",
    "                    # torch.nn.init.uniform_(m.bias, -0.1, 0.1)\n",
    "        \n",
    "    def forward(self, x):\n",
    "        return self.model(x)\n",
    "    \n",
    "    def train(self, inputs, targets):\n",
    "        outputs = self.forward(inputs)  # 网络输出值\n",
    "        loss = self.loss_function(outputs,targets)  # 损失值\n",
    "\n",
    "        # 每训练10次增加计数器\n",
    "        if (self.counter % 1 == 0):    self.LOSSprogress.append(loss.item())\n",
    "        # if (self.counter % 10000 == 0): print(\"counter = \", self.counter)\n",
    "\n",
    "        # =================== 使用损失值更新权重 ===================\n",
    "        self.optimiser.zero_grad()  # 将图中的梯度全部归零\n",
    "        loss.backward()             # 计算网络中的梯度\n",
    "        self.optimiser.step()       # 更新网络中可学习的参数\n",
    "\n",
    "        self.counter += 1\n",
    "\n",
    "    def accuracy(self, ims, labels, file_Test = r'./test_error_correct.txt'):\n",
    "        per_datset = int(ims.shape[0]/self.batch_num)    # 每个数据集用的批次数\n",
    "        acc = 0.0       # 测试精度初始化\n",
    "        error_num = 0   # 错误数量\n",
    "        with open(file_Test, \"w\") as f:\n",
    "            f.write(\"序号\\tlabel\\tlabels_correct\\n\")\n",
    "            for i in range(per_datset-1): \n",
    "                outputs = self.forward(ims[i*self.batch_num:(i+1)*self.batch_num])\n",
    "                tt = labels[i*self.batch_num:(i+1)*self.batch_num]\n",
    "                outputs = outputs.cpu().detach().numpy()     # 网络输出值\n",
    "                y = np.argmax(outputs, axis=1)\n",
    "                acc += np.sum(y == tt)\n",
    "             \n",
    "                # 保存错误的位置，识别标签，正确标签\n",
    "                error = np.where((y != tt)==1)\n",
    "                error_num += np.sum(y != tt)\n",
    "                for er in error[0]:\n",
    "                    f.write(\"{}\\t{}\\t{}\\n\".format(er+i*self.batch_num, y[er], tt[er]))\n",
    "\n",
    "            acc = acc/ims.shape[0]\n",
    "\n",
    "            f.write(f\"总数量：{ims.shape[0]}；识别错误的个数：{error_num}；测试学习的成功率为：{acc}\\n\")\n",
    "\n",
    "        return acc\n",
    "    \n",
    "    def accuracy_progress(self, ims, labels):\n",
    "        per_datset = int(ims.shape[0]/self.batch_num)    # 每个数据集用的批次数\n",
    "        acc = 0.0       # 测试精度初始化\n",
    "        for i in range(per_datset-1):\n",
    "            outputs = self.forward(ims[i*self.batch_num:(i+1)*self.batch_num])\n",
    "            tt = labels[i*self.batch_num:(i+1)*self.batch_num]\n",
    "            outputs = outputs.cpu().detach().numpy()     # 网络输出值\n",
    "            y = np.argmax(outputs, axis=1)\n",
    "            acc += np.sum(y == tt)\n",
    "\n",
    "        acc = acc/ims.shape[0]\n",
    "        if (self.counter % 1 == 0):    self.ACCprogress.append(acc)   \n",
    "\n",
    "    def plot_progress(self):\n",
    "        fig, ax = plt.subplots(1,2,figsize=(8, 4))\n",
    "        fig.suptitle(\"progress\",x=0.5,y=0.99,size=15,weight='bold')\n",
    "        fig.subplots_adjust(left=0.01, bottom=0.01, right=0.99, top=0.85, wspace=0.2,\n",
    "        hspace=0.1)\n",
    "        # loss\n",
    "        ax[0].scatter(np.arange(1, int(self.counter/1)+1),self.LOSSprogress,s=10,c=\"tab:pink\",label=\"loss\")\n",
    "        ax[0].set_xlabel(\"time\") \n",
    "        ax[0].set_ylabel(\"loss\") \n",
    "        ax[0].set_title(\"loss\")\n",
    "        # accuracy\n",
    "        ax[1].plot(np.arange(1, int(self.counter/1)+1),self.ACCprogress,c=\"tab:pink\",label=\"loss\")\n",
    "        ax[1].set_xlabel(\"time\") \n",
    "        ax[1].set_ylabel(\"accuracy\")\n",
    "        ax[1].set_title(\"accuracy\")\n",
    "\n",
    "        plt.show()\n",
    "    \n",
    "    def save_params(self, file_name=\"params.pt\"):\n",
    "        torch.save(self.state_dict(),file_name)\n",
    "\n",
    "    def load_params(self, file_name=\"params.pt\"):\n",
    "        self.load_state_dict(torch.load(file_name))\n",
    "\n",
    "        "
   ]
  },
  {
   "cell_type": "code",
   "execution_count": 682,
   "metadata": {},
   "outputs": [
    {
     "name": "stdout",
     "output_type": "stream",
     "text": [
      "=======创建网络成功=======\n",
      "\n"
     ]
    }
   ],
   "source": [
    "# 实例化网络\n",
    "batch_num = 100        # 批次大小\n",
    "lr = 1e-3               # 学习率\n",
    "CNN = CNN_write(batch_num,lr=lr).to(device)\n",
    "print(\"=======创建网络成功=======\\n\")\n",
    "# CNN.save_params()\n",
    "# CNN.load_params()\n",
    "# CNN.train()\n",
    "# CNN.eval()\n",
    "# CNN.training = False\n",
    "# CNN.training\n",
    "# CNN(im).shape\n",
    "# o = CNN(im)\n",
    "# print(o)\n",
    "# print(list(CNN.parameters())[8].shape)\n",
    "# print(*CNN.named_parameters())\n",
    "# for w in CNN.parameters():\n",
    "#     print(w.shape)\n",
    "# print(list(CNN.state_dict())[8])\n",
    "# print(*CNN.model.parameters())\n",
    "# print(*CNN.model.named_parameters())\n",
    "# print(*CNN.model.state_dict())\n",
    "# CNN.loss_function(o,target)\n",
    "# for m in CNN.modules():\n",
    "#     if isinstance(m, nn.ReLU):\n",
    "#         print(m)\n",
    "\n"
   ]
  },
  {
   "cell_type": "code",
   "execution_count": 683,
   "metadata": {},
   "outputs": [
    {
     "name": "stdout",
     "output_type": "stream",
     "text": [
      " 学习进度：2.000 %"
     ]
    }
   ],
   "source": [
    "# 训练网络\n",
    "epochs = 50    # 设定世代数\n",
    "lens = len(md_trian)\n",
    "per_epoch = int(lens/batch_num)    # 每个世代用的批次数\n",
    "label_all, im_all, targets_all = md_eval[:] # 所有的测试数据\n",
    "# 训练开始\n",
    "for e in range(epochs):\n",
    "    # 训练进度可视化\n",
    "    if e%1==0:    print(\"\\r\", \"学习进度：{:.3f} %\".format((e+1)*100/epochs), end='', flush=True)\n",
    "    # 随机打乱每个批次中的数据顺序\n",
    "    num_dat = np.random.permutation(np.arange(lens))\n",
    "    for i in range(per_epoch-1):   \n",
    "        id_batch = num_dat[i*batch_num:(i+1)*batch_num]\n",
    "        labels, im, targets = md_trian[id_batch]\n",
    "        CNN.train(im.to(device),targets.to(device))\n",
    "        CNN.accuracy_progress(im_all.to(device), label_all)\n",
    "\n"
   ]
  },
  {
   "cell_type": "code",
   "execution_count": null,
   "metadata": {},
   "outputs": [
    {
     "name": "stdout",
     "output_type": "stream",
     "text": [
      "0.5114\n"
     ]
    },
    {
     "data": {
      "image/png": "[encoded data removed]",
      "text/plain": [
       "<Figure size 800x400 with 2 Axes>"
      ]
     },
     "metadata": {},
     "output_type": "display_data"
    }
   ],
   "source": [
    "# a=np.arange(10,20)\n",
    "# b=np.random.permutation(a)\n",
    "# label, im, targets = md_trian[b]\n",
    "# print(b)\n",
    "# im.shape\n",
    "# len(md_trian)\n",
    "# labels, im, targets = md_trian[:]\n",
    "labels, im, targets = md_eval[:]\n",
    "print(CNN.accuracy(im.to(device), labels))\n",
    "CNN.plot_progress()\n",
    "# labels.shape"
   ]
  }
 ],
 "metadata": {
  "kernelspec": {
   "display_name": "Python 3",
   "language": "python",
   "name": "python3"
  },
  "language_info": {
   "codemirror_mode": {
    "name": "ipython",
    "version": 3
   },
   "file_extension": ".py",
   "mimetype": "text/x-python",
   "name": "python",
   "nbconvert_exporter": "python",
   "pygments_lexer": "ipython3",
   "version": "3.9.12"
  },
  "orig_nbformat": 4
 },
 "nbformat": 4,
 "nbformat_minor": 2
}
