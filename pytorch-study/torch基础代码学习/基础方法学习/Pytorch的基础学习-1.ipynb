{
 "cells": [
  {
   "cell_type": "code",
   "execution_count": 2,
   "metadata": {},
   "outputs": [],
   "source": [
    "# 导入包\n",
    "import torch\n",
    "import numpy as np"
   ]
  },
  {
   "attachments": {},
   "cell_type": "markdown",
   "metadata": {},
   "source": [
    "# 1、数据类型\n",
    "    int                     IntTensor\n",
    "    float                   FloatTensor\n",
    "    int array               IntTensor[d1,d2,...]\n",
    "    float array             FloatTensor[d1,d2,...]\n",
    "    string                  使用编码的方式表示string类型"
   ]
  },
  {
   "attachments": {},
   "cell_type": "markdown",
   "metadata": {},
   "source": [
    "# from_numpy()\n",
    "使用 from_numpy() 将 numpy 数据转化为 tensor    \n",
    "默认为torch.float64类型 torch.DoubleTensor"
   ]
  },
  {
   "cell_type": "code",
   "execution_count": 8,
   "metadata": {},
   "outputs": [
    {
     "name": "stdout",
     "output_type": "stream",
     "text": [
      "tensor([2.0000, 3.4000], dtype=torch.float64)\n",
      "tensor([[1., 1., 1.],\n",
      "        [1., 1., 1.]], dtype=torch.float64)\n"
     ]
    }
   ],
   "source": [
    "# import from numpy\n",
    "a = np.array([2,3.4])\n",
    "a = torch.from_numpy(a)\n",
    "print(a)\n",
    "b = np.ones([2,3])\n",
    "b = torch.from_numpy(b)\n",
    "print(b)"
   ]
  },
  {
   "cell_type": "code",
   "execution_count": 15,
   "metadata": {},
   "outputs": [
    {
     "name": "stdout",
     "output_type": "stream",
     "text": [
      "tensor([2.0000, 3.2000]) torch.FloatTensor\n",
      "tensor([[2.0000, 3.2000],\n",
      "        [1.0000, 2.2000]]) torch.FloatTensor\n"
     ]
    }
   ],
   "source": [
    "# import from list\n",
    "a = torch.tensor([2., 3.2])\n",
    "print(a, a.type())\n",
    "b = torch.tensor([[2,3.2], [1,2.2]])\n",
    "print(b, b.type())"
   ]
  },
  {
   "attachments": {},
   "cell_type": "markdown",
   "metadata": {},
   "source": [
    "# empty, Tensor, IntTensor, FloatTensor的应用\n",
    "torch.Tensor()是python类-----------torch.FloatTensor    \n",
    "torch.tensor()是python函数  \n",
    "Tensor()接收维度， tensor()接收数据     \n",
    "效果差不多，用法有一定的区别"
   ]
  },
  {
   "cell_type": "code",
   "execution_count": 26,
   "metadata": {},
   "outputs": [
    {
     "name": "stdout",
     "output_type": "stream",
     "text": [
      "tensor([[0., 0., 0., 0.]]) torch.FloatTensor\n",
      "tensor([[0.0000e+00, 3.2485e-05, 1.8754e+28],\n",
      "        [2.5991e-06, 2.6542e+20, 1.2801e-11]]) torch.FloatTensor\n",
      "tensor([1, 2, 3]) torch.LongTensor\n"
     ]
    }
   ],
   "source": [
    "# 初始化数据的函数\n",
    "a = torch.empty(1,4)\n",
    "print(a, a.type()) \n",
    "b = torch.Tensor(2,3)   # 随机\n",
    "print(b, b.type())\n",
    "c = torch.tensor((1,2,3))\n",
    "print(c, c.type())"
   ]
  },
  {
   "attachments": {},
   "cell_type": "markdown",
   "metadata": {},
   "source": [
    "# 改变默认数据类型 \n",
    "PyTorch的默认类型是FloatTensor  \n",
    "使用set_default_tensor_type()改变默认数据类型"
   ]
  },
  {
   "cell_type": "code",
   "execution_count": 34,
   "metadata": {},
   "outputs": [
    {
     "name": "stdout",
     "output_type": "stream",
     "text": [
      "torch.FloatTensor\n",
      "torch.DoubleTensor\n"
     ]
    }
   ],
   "source": [
    "print(torch.tensor([1.2, 3]).type())\n",
    "torch.set_default_tensor_type(torch.DoubleTensor)\n",
    "print(torch.tensor([1.2, 3]).type())"
   ]
  },
  {
   "attachments": {},
   "cell_type": "markdown",
   "metadata": {},
   "source": [
    "# 切片"
   ]
  },
  {
   "cell_type": "code",
   "execution_count": 43,
   "metadata": {},
   "outputs": [
    {
     "name": "stdout",
     "output_type": "stream",
     "text": [
      "torch.Size([4, 5, 6])\n",
      "torch.Size([2, 5, 6])\n",
      "tensor([0.9733, 0.9707, 0.7172, 0.9166, 0.7538, 0.5561, 0.5444, 0.7687, 0.6960,\n",
      "        0.6438, 0.8167, 0.6491, 0.6019, 0.6291, 0.8216, 0.7978, 0.6504, 0.5091,\n",
      "        0.6076, 0.8951, 0.9662, 0.5174, 0.6050, 0.5692, 0.5277, 0.8755, 0.5629,\n",
      "        0.7718, 0.5054, 0.9238, 0.6854, 0.8229, 0.8274, 0.7297, 0.9521, 0.9316,\n",
      "        0.8941, 0.7441, 0.9983, 0.6757, 0.8762, 0.8135, 0.8362, 0.5358, 0.6966,\n",
      "        0.7780, 0.5041, 0.7573, 0.8026, 0.7857, 0.8523, 0.7048])\n"
     ]
    }
   ],
   "source": [
    "a = torch.rand(4,5,6)\n",
    "print(a.shape)\n",
    "b = a[0:3:2,:,:]\n",
    "print(b.shape)\n",
    "print(a[a>0.5])"
   ]
  },
  {
   "attachments": {},
   "cell_type": "markdown",
   "metadata": {},
   "source": [
    "# 维度变换"
   ]
  },
  {
   "cell_type": "code",
   "execution_count": 45,
   "metadata": {},
   "outputs": [
    {
     "name": "stdout",
     "output_type": "stream",
     "text": [
      "tensor([[[5.5668e-01, 9.7550e-01],\n",
      "         [3.5943e-01, 5.7385e-01],\n",
      "         [9.2970e-01, 1.6190e-01]],\n",
      "\n",
      "        [[5.5118e-03, 5.4063e-03],\n",
      "         [2.3668e-01, 8.7479e-01],\n",
      "         [5.7701e-01, 3.7321e-01]],\n",
      "\n",
      "        [[8.1164e-01, 1.6432e-01],\n",
      "         [7.4977e-01, 2.8836e-01],\n",
      "         [8.2767e-01, 7.4640e-01]],\n",
      "\n",
      "        [[3.1480e-01, 6.1099e-01],\n",
      "         [2.5750e-01, 8.8531e-01],\n",
      "         [1.0503e-04, 4.7937e-01]]])\n",
      "tensor([[5.5668e-01, 9.7550e-01, 3.5943e-01, 5.7385e-01, 9.2970e-01, 1.6190e-01],\n",
      "        [5.5118e-03, 5.4063e-03, 2.3668e-01, 8.7479e-01, 5.7701e-01, 3.7321e-01],\n",
      "        [8.1164e-01, 1.6432e-01, 7.4977e-01, 2.8836e-01, 8.2767e-01, 7.4640e-01],\n",
      "        [3.1480e-01, 6.1099e-01, 2.5750e-01, 8.8531e-01, 1.0503e-04, 4.7937e-01]])\n"
     ]
    }
   ],
   "source": [
    "# 使用view变换维度\n",
    "a = torch.rand(4,3,2)\n",
    "print(a)\n",
    "\n",
    "b = a.view(4, 3*2)\n",
    "print(b)"
   ]
  },
  {
   "cell_type": "code",
   "execution_count": 52,
   "metadata": {},
   "outputs": [
    {
     "name": "stdout",
     "output_type": "stream",
     "text": [
      "torch.Size([1, 4, 3, 2])\n",
      "torch.Size([4, 1, 3, 2])\n",
      "torch.Size([4, 3, 2, 1])\n",
      "torch.Size([4, 3, 1, 2])\n"
     ]
    }
   ],
   "source": [
    "# 使用 unsqueeze 增维\n",
    "# unsqueeze(x) 再x位置上插入一个维度\n",
    "print(a.unsqueeze(0).shape)\n",
    "print(a.unsqueeze(1).shape)\n",
    "print(a.unsqueeze(-1).shape)\n",
    "print(a.unsqueeze(-2).shape)"
   ]
  },
  {
   "cell_type": "code",
   "execution_count": 59,
   "metadata": {},
   "outputs": [
    {
     "name": "stdout",
     "output_type": "stream",
     "text": [
      "torch.Size([4, 3, 1, 1])\n",
      "torch.Size([4, 3, 1, 1])\n",
      "torch.Size([4, 3, 1])\n",
      "torch.Size([4, 3, 1])\n",
      "torch.Size([4, 3])\n"
     ]
    }
   ],
   "source": [
    "# 使用 unsqueeze 降维(不包含参数的维度)\n",
    "a = torch.rand(4,3,1,1)\n",
    "print(a.squeeze(0).shape)\n",
    "print(a.squeeze(1).shape)\n",
    "print(a.squeeze(2).shape)\n",
    "print(a.squeeze(3).shape)\n",
    "print(a.squeeze(2).squeeze(2).shape)\n"
   ]
  },
  {
   "cell_type": "code",
   "execution_count": 74,
   "metadata": {},
   "outputs": [
    {
     "name": "stdout",
     "output_type": "stream",
     "text": [
      "tensor([[[0.8612],\n",
      "         [0.3787]],\n",
      "\n",
      "        [[0.6890],\n",
      "         [0.7986]],\n",
      "\n",
      "        [[0.1182],\n",
      "         [0.4506]],\n",
      "\n",
      "        [[0.0793],\n",
      "         [0.5988]]])\n",
      "tensor([[[0.8612, 0.8612],\n",
      "         [0.3787, 0.3787]],\n",
      "\n",
      "        [[0.6890, 0.6890],\n",
      "         [0.7986, 0.7986]],\n",
      "\n",
      "        [[0.1182, 0.1182],\n",
      "         [0.4506, 0.4506]],\n",
      "\n",
      "        [[0.0793, 0.0793],\n",
      "         [0.5988, 0.5988]]])\n"
     ]
    }
   ],
   "source": [
    "# 使用 expand 扩展维度(扩张维度为1的位置)\n",
    "a = torch.rand(4,2,1)\n",
    "print(a)\n",
    "print(a.expand(4,2,2))"
   ]
  },
  {
   "cell_type": "code",
   "execution_count": 78,
   "metadata": {},
   "outputs": [
    {
     "name": "stdout",
     "output_type": "stream",
     "text": [
      "tensor([[0.0443],\n",
      "        [0.1001]])\n",
      "tensor([[0.0443, 0.0443],\n",
      "        [0.1001, 0.1001],\n",
      "        [0.0443, 0.0443],\n",
      "        [0.1001, 0.1001]])\n",
      "tensor([[0.0443, 0.0443],\n",
      "        [0.1001, 0.1001],\n",
      "        [0.0443, 0.0443],\n",
      "        [0.1001, 0.1001],\n",
      "        [0.0443, 0.0443],\n",
      "        [0.1001, 0.1001],\n",
      "        [0.0443, 0.0443],\n",
      "        [0.1001, 0.1001]])\n"
     ]
    }
   ],
   "source": [
    "# 使用 repeat 扩展维度\n",
    "a = torch.rand(2,1)\n",
    "print(a)\n",
    "print(a.repeat(2,2))\n",
    "print(a.repeat(2*2,2))"
   ]
  },
  {
   "attachments": {},
   "cell_type": "markdown",
   "metadata": {},
   "source": [
    "# 拼接与拆分 --- Cat, Stack, Split, Chunk"
   ]
  },
  {
   "cell_type": "code",
   "execution_count": 115,
   "metadata": {},
   "outputs": [
    {
     "name": "stdout",
     "output_type": "stream",
     "text": [
      "tensor([[0.8095, 0.2212],\n",
      "        [0.0009, 0.1118]]) tensor([[0.9768, 0.9019],\n",
      "        [0.8844, 0.3871]])\n",
      "torch.Size([2, 4])\n",
      "torch.Size([4, 2])\n",
      "torch.Size([2, 2, 2])\n",
      "torch.Size([2, 2, 2])\n",
      "(tensor([[0.8095],\n",
      "        [0.0009]]), tensor([[0.2212],\n",
      "        [0.1118]]))\n",
      "(tensor([[0.8095, 0.2212]]), tensor([[0.0009, 0.1118]]))\n"
     ]
    }
   ],
   "source": [
    "a = torch.rand(2,2)\n",
    "b = torch.rand(2,2)\n",
    "print(a, b)\n",
    "print(torch.cat([a, b], dim=1).shape)\n",
    "print(torch.cat([a, b], dim=0).shape)\n",
    "print(torch.stack([a, b], dim=0).shape)\n",
    "print(torch.stack([a, b], dim=1).shape)\n",
    "print(a.split(1, dim=1))\n",
    "print(a.chunk(2, dim=0))    # 等量分割"
   ]
  },
  {
   "attachments": {},
   "cell_type": "markdown",
   "metadata": {},
   "source": [
    "# PyTorch 的基本数学运算\n",
    "## 数学运算\n",
    "Add/minus/multiply/divide   \n",
    "Matmul  \n",
    "Pow     \n",
    "Sqrt/rsqrt  \n",
    "Round\n"
   ]
  },
  {
   "cell_type": "code",
   "execution_count": 121,
   "metadata": {},
   "outputs": [
    {
     "name": "stdout",
     "output_type": "stream",
     "text": [
      "tensor([[0.9633, 0.9761, 0.4742, 0.3007],\n",
      "        [0.4219, 0.1869, 0.9068, 0.9499],\n",
      "        [0.1363, 0.8625, 0.9305, 0.6567]]) \n",
      " tensor([0.0362, 0.5049, 0.1859, 0.2974])\n",
      "tensor([[0.9995, 1.4811, 0.6600, 0.5981],\n",
      "        [0.4581, 0.6919, 1.0927, 1.2474],\n",
      "        [0.1725, 1.3674, 1.1164, 0.9541]])\n",
      "tensor([[0.9995, 1.4811, 0.6600, 0.5981],\n",
      "        [0.4581, 0.6919, 1.0927, 1.2474],\n",
      "        [0.1725, 1.3674, 1.1164, 0.9541]])\n"
     ]
    }
   ],
   "source": [
    "# add 加\n",
    "a = torch.rand(3,4)\n",
    "b = torch.rand(4)\n",
    "print(a, \"\\n\", b)\n",
    "print(a+b)\n",
    "print(torch.add(a,b))"
   ]
  },
  {
   "cell_type": "code",
   "execution_count": 122,
   "metadata": {},
   "outputs": [
    {
     "name": "stdout",
     "output_type": "stream",
     "text": [
      "tensor([[ 0.9271,  0.4712,  0.2883,  0.0032],\n",
      "        [ 0.3857, -0.3180,  0.7210,  0.6525],\n",
      "        [ 0.1001,  0.3575,  0.7447,  0.3592]])\n",
      "tensor([[0.0349, 0.4929, 0.0881, 0.0894],\n",
      "        [0.0153, 0.0944, 0.1685, 0.2826],\n",
      "        [0.0049, 0.4355, 0.1729, 0.1953]])\n",
      "tensor([[26.6175,  1.9331,  2.5512,  1.0108],\n",
      "        [11.6578,  0.3702,  4.8791,  3.1936],\n",
      "        [ 3.7665,  1.7081,  5.0067,  2.2076]])\n"
     ]
    }
   ],
   "source": [
    "# sub 减；mul 乘；div 除\n",
    "print(torch.sub(a,b))\n",
    "print(torch.mul(a,b))\n",
    "print(torch.div(a,b))\n"
   ]
  },
  {
   "cell_type": "code",
   "execution_count": 129,
   "metadata": {},
   "outputs": [
    {
     "data": {
      "text/plain": [
       "tensor(True)"
      ]
     },
     "execution_count": 129,
     "metadata": {},
     "output_type": "execute_result"
    }
   ],
   "source": [
    "torch.eq(a-b, torch.sub(a,b))\n",
    "torch.all(torch.eq(a-b, torch.sub(a,b)))"
   ]
  },
  {
   "cell_type": "code",
   "execution_count": 133,
   "metadata": {},
   "outputs": [
    {
     "name": "stdout",
     "output_type": "stream",
     "text": [
      "tensor([[1.0444]])\n",
      "tensor([[1.0444]])\n"
     ]
    }
   ],
   "source": [
    "# 矩阵相乘 matmul --- 另一种写法：@\n",
    "a = torch.rand(1,4)\n",
    "b = torch.rand(4,1)\n",
    "print(torch.matmul(a,b))\n",
    "print(a@b)\n"
   ]
  },
  {
   "cell_type": "code",
   "execution_count": 136,
   "metadata": {},
   "outputs": [
    {
     "name": "stdout",
     "output_type": "stream",
     "text": [
      "tensor([[9, 9, 9],\n",
      "        [9, 9, 9]])\n",
      "tensor([[9, 9, 9],\n",
      "        [9, 9, 9]])\n"
     ]
    }
   ],
   "source": [
    "# Power exp log\n",
    "# sqrt ,rsqrt\n",
    "a = torch.full([2,3],3)\n",
    "print(a.pow(2))\n",
    "print(a**2)"
   ]
  },
  {
   "attachments": {},
   "cell_type": "markdown",
   "metadata": {},
   "source": [
    "# 统计性质"
   ]
  },
  {
   "cell_type": "code",
   "execution_count": null,
   "metadata": {},
   "outputs": [],
   "source": []
  }
 ],
 "metadata": {
  "kernelspec": {
   "display_name": "Python 3",
   "language": "python",
   "name": "python3"
  },
  "language_info": {
   "codemirror_mode": {
    "name": "ipython",
    "version": 3
   },
   "file_extension": ".py",
   "mimetype": "text/x-python",
   "name": "python",
   "nbconvert_exporter": "python",
   "pygments_lexer": "ipython3",
   "version": "3.9.12"
  },
  "orig_nbformat": 4
 },
 "nbformat": 4,
 "nbformat_minor": 2
}
