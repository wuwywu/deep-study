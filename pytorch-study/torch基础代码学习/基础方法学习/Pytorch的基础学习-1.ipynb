{
 "cells": [
  {
   "cell_type": "code",
   "execution_count": 2,
   "metadata": {},
   "outputs": [],
   "source": [
    "# 导入包\n",
    "import torch\n",
    "import numpy as np"
   ]
  },
  {
   "attachments": {},
   "cell_type": "markdown",
   "metadata": {},
   "source": [
    "# 1、数据类型\n",
    "    int                     IntTensor\n",
    "    float                   FloatTensor\n",
    "    int array               IntTensor[d1,d2,...]\n",
    "    float array             FloatTensor[d1,d2,...]\n",
    "    string                  使用编码的方式表示string类型"
   ]
  },
  {
   "attachments": {},
   "cell_type": "markdown",
   "metadata": {},
   "source": [
    "# from_numpy()\n",
    "使用 from_numpy() 将 numpy 数据转化为 tensor    \n",
    "默认为torch.float64类型 torch.DoubleTensor"
   ]
  },
  {
   "cell_type": "code",
   "execution_count": 3,
   "metadata": {},
   "outputs": [
    {
     "name": "stdout",
     "output_type": "stream",
     "text": [
      "tensor([2.0000, 3.4000], dtype=torch.float64)\n",
      "tensor([[1., 1., 1.],\n",
      "        [1., 1., 1.]], dtype=torch.float64)\n"
     ]
    }
   ],
   "source": [
    "# import from numpy\n",
    "a = np.array([2,3.4])\n",
    "a = torch.from_numpy(a)\n",
    "print(a)\n",
    "b = np.ones([2,3])\n",
    "b = torch.from_numpy(b)\n",
    "print(b)"
   ]
  },
  {
   "cell_type": "code",
   "execution_count": 4,
   "metadata": {},
   "outputs": [
    {
     "name": "stdout",
     "output_type": "stream",
     "text": [
      "tensor([2.0000, 3.2000]) torch.FloatTensor\n",
      "tensor([[2.0000, 3.2000],\n",
      "        [1.0000, 2.2000]]) torch.FloatTensor\n"
     ]
    }
   ],
   "source": [
    "# import from list\n",
    "a = torch.tensor([2., 3.2])\n",
    "print(a, a.type())\n",
    "b = torch.tensor([[2,3.2], [1,2.2]])\n",
    "print(b, b.type())"
   ]
  },
  {
   "attachments": {},
   "cell_type": "markdown",
   "metadata": {},
   "source": [
    "# empty, Tensor, IntTensor, FloatTensor的应用\n",
    "torch.Tensor()是python类-----------torch.FloatTensor    \n",
    "torch.tensor()是python函数  \n",
    "Tensor()接收维度， tensor()接收数据     \n",
    "效果差不多，用法有一定的区别"
   ]
  },
  {
   "cell_type": "code",
   "execution_count": 5,
   "metadata": {},
   "outputs": [
    {
     "name": "stdout",
     "output_type": "stream",
     "text": [
      "tensor([[4.2698e-08, 8.3092e+20, 7.9869e+20, 1.0140e-11]]) torch.FloatTensor\n",
      "tensor([[-2.2105e-30,  7.2587e-43,  3.0357e+32],\n",
      "        [ 1.1547e+19,  0.0000e+00,  0.0000e+00]]) torch.FloatTensor\n",
      "tensor([1, 2, 3]) torch.LongTensor\n"
     ]
    }
   ],
   "source": [
    "# 初始化数据的函数\n",
    "a = torch.empty(1,4)\n",
    "print(a, a.type()) \n",
    "b = torch.Tensor(2,3)   # 随机\n",
    "print(b, b.type())\n",
    "c = torch.tensor((1,2,3))\n",
    "print(c, c.type())"
   ]
  },
  {
   "attachments": {},
   "cell_type": "markdown",
   "metadata": {},
   "source": [
    "# 改变默认数据类型 \n",
    "PyTorch的默认类型是FloatTensor  \n",
    "使用set_default_tensor_type()改变默认数据类型"
   ]
  },
  {
   "cell_type": "code",
   "execution_count": 6,
   "metadata": {},
   "outputs": [
    {
     "name": "stdout",
     "output_type": "stream",
     "text": [
      "torch.FloatTensor\n",
      "torch.DoubleTensor\n"
     ]
    }
   ],
   "source": [
    "print(torch.tensor([1.2, 3]).type())\n",
    "torch.set_default_tensor_type(torch.DoubleTensor)\n",
    "print(torch.tensor([1.2, 3]).type())"
   ]
  },
  {
   "attachments": {},
   "cell_type": "markdown",
   "metadata": {},
   "source": [
    "# 切片"
   ]
  },
  {
   "cell_type": "code",
   "execution_count": 7,
   "metadata": {},
   "outputs": [
    {
     "name": "stdout",
     "output_type": "stream",
     "text": [
      "torch.Size([4, 5, 6])\n",
      "torch.Size([2, 5, 6])\n",
      "tensor([0.7543, 0.8515, 0.8316, 0.5435, 0.6555, 0.9142, 0.9399, 0.6452, 0.9910,\n",
      "        0.5366, 0.9647, 0.6879, 0.8466, 0.6798, 0.8549, 0.9124, 0.6752, 0.9902,\n",
      "        0.7548, 0.8577, 0.5822, 0.6872, 0.8850, 0.9262, 0.7082, 0.6599, 0.8990,\n",
      "        0.7745, 0.5887, 0.9983, 0.8170, 0.7263, 0.5289, 0.5518, 0.9085, 0.6054,\n",
      "        0.7964, 0.7283, 0.9396, 0.9081, 0.8416, 0.8284, 0.8562, 0.8836, 0.7603,\n",
      "        0.5921, 0.5959, 0.9470, 0.8783, 0.8754, 0.5858, 0.8404, 0.8956, 0.5379,\n",
      "        0.9475, 0.8345, 0.7375, 0.8195, 0.7485, 0.8642, 0.9588, 0.7558, 0.5102,\n",
      "        0.5472])\n"
     ]
    }
   ],
   "source": [
    "a = torch.rand(4,5,6)\n",
    "print(a.shape)\n",
    "b = a[0:3:2,:,:]\n",
    "print(b.shape)\n",
    "print(a[a>0.5])"
   ]
  },
  {
   "attachments": {},
   "cell_type": "markdown",
   "metadata": {},
   "source": [
    "# 维度变换"
   ]
  },
  {
   "cell_type": "code",
   "execution_count": 8,
   "metadata": {},
   "outputs": [
    {
     "name": "stdout",
     "output_type": "stream",
     "text": [
      "tensor([[[0.7726, 0.0685],\n",
      "         [0.6279, 0.9718],\n",
      "         [0.4022, 0.2028]],\n",
      "\n",
      "        [[0.1264, 0.9693],\n",
      "         [0.4769, 0.5182],\n",
      "         [0.1508, 0.2620]],\n",
      "\n",
      "        [[0.9372, 0.7418],\n",
      "         [0.7445, 0.1386],\n",
      "         [0.4335, 0.2610]],\n",
      "\n",
      "        [[0.2707, 0.8243],\n",
      "         [0.3965, 0.6164],\n",
      "         [0.6898, 0.4396]]])\n",
      "tensor([[0.7726, 0.0685, 0.6279, 0.9718, 0.4022, 0.2028],\n",
      "        [0.1264, 0.9693, 0.4769, 0.5182, 0.1508, 0.2620],\n",
      "        [0.9372, 0.7418, 0.7445, 0.1386, 0.4335, 0.2610],\n",
      "        [0.2707, 0.8243, 0.3965, 0.6164, 0.6898, 0.4396]])\n"
     ]
    }
   ],
   "source": [
    "# 使用view变换维度\n",
    "a = torch.rand(4,3,2)\n",
    "print(a)\n",
    "\n",
    "b = a.view(4, 3*2)\n",
    "print(b)"
   ]
  },
  {
   "cell_type": "code",
   "execution_count": 9,
   "metadata": {},
   "outputs": [
    {
     "name": "stdout",
     "output_type": "stream",
     "text": [
      "torch.Size([1, 4, 3, 2])\n",
      "torch.Size([4, 1, 3, 2])\n",
      "torch.Size([4, 3, 2, 1])\n",
      "torch.Size([4, 3, 1, 2])\n"
     ]
    }
   ],
   "source": [
    "# 使用 unsqueeze 增维\n",
    "# unsqueeze(x) 再x位置上插入一个维度\n",
    "print(a.unsqueeze(0).shape)\n",
    "print(a.unsqueeze(1).shape)\n",
    "print(a.unsqueeze(-1).shape)\n",
    "print(a.unsqueeze(-2).shape)"
   ]
  },
  {
   "cell_type": "code",
   "execution_count": 10,
   "metadata": {},
   "outputs": [
    {
     "name": "stdout",
     "output_type": "stream",
     "text": [
      "torch.Size([4, 3, 1, 1])\n",
      "torch.Size([4, 3, 1, 1])\n",
      "torch.Size([4, 3, 1])\n",
      "torch.Size([4, 3, 1])\n",
      "torch.Size([4, 3])\n"
     ]
    }
   ],
   "source": [
    "# 使用 unsqueeze 降维(不包含参数的维度)\n",
    "a = torch.rand(4,3,1,1)\n",
    "print(a.squeeze(0).shape)\n",
    "print(a.squeeze(1).shape)\n",
    "print(a.squeeze(2).shape)\n",
    "print(a.squeeze(3).shape)\n",
    "print(a.squeeze(2).squeeze(2).shape)\n"
   ]
  },
  {
   "cell_type": "code",
   "execution_count": 11,
   "metadata": {},
   "outputs": [
    {
     "name": "stdout",
     "output_type": "stream",
     "text": [
      "tensor([[[0.3847],\n",
      "         [0.3039]],\n",
      "\n",
      "        [[0.6784],\n",
      "         [0.0785]],\n",
      "\n",
      "        [[0.8853],\n",
      "         [0.6554]],\n",
      "\n",
      "        [[0.2758],\n",
      "         [0.3632]]])\n",
      "tensor([[[0.3847, 0.3847],\n",
      "         [0.3039, 0.3039]],\n",
      "\n",
      "        [[0.6784, 0.6784],\n",
      "         [0.0785, 0.0785]],\n",
      "\n",
      "        [[0.8853, 0.8853],\n",
      "         [0.6554, 0.6554]],\n",
      "\n",
      "        [[0.2758, 0.2758],\n",
      "         [0.3632, 0.3632]]])\n"
     ]
    }
   ],
   "source": [
    "# 使用 expand 扩展维度(扩张维度为1的位置)\n",
    "a = torch.rand(4,2,1)\n",
    "print(a)\n",
    "print(a.expand(4,2,2))"
   ]
  },
  {
   "cell_type": "code",
   "execution_count": 12,
   "metadata": {},
   "outputs": [
    {
     "name": "stdout",
     "output_type": "stream",
     "text": [
      "tensor([[0.0200],\n",
      "        [0.9709]])\n",
      "tensor([[0.0200, 0.0200],\n",
      "        [0.9709, 0.9709],\n",
      "        [0.0200, 0.0200],\n",
      "        [0.9709, 0.9709]])\n",
      "tensor([[0.0200, 0.0200],\n",
      "        [0.9709, 0.9709],\n",
      "        [0.0200, 0.0200],\n",
      "        [0.9709, 0.9709],\n",
      "        [0.0200, 0.0200],\n",
      "        [0.9709, 0.9709],\n",
      "        [0.0200, 0.0200],\n",
      "        [0.9709, 0.9709]])\n"
     ]
    }
   ],
   "source": [
    "# 使用 repeat 扩展维度\n",
    "a = torch.rand(2,1)\n",
    "print(a)\n",
    "print(a.repeat(2,2))\n",
    "print(a.repeat(2*2,2))"
   ]
  },
  {
   "attachments": {},
   "cell_type": "markdown",
   "metadata": {},
   "source": [
    "# 拼接与拆分 --- Cat, Stack, Split, Chunk"
   ]
  },
  {
   "cell_type": "code",
   "execution_count": 13,
   "metadata": {},
   "outputs": [
    {
     "name": "stdout",
     "output_type": "stream",
     "text": [
      "tensor([[0.6166, 0.0720],\n",
      "        [0.2380, 0.9987]]) tensor([[0.2861, 0.6472],\n",
      "        [0.2731, 0.1434]])\n",
      "torch.Size([2, 4])\n",
      "torch.Size([4, 2])\n",
      "torch.Size([2, 2, 2])\n",
      "torch.Size([2, 2, 2])\n",
      "(tensor([[0.6166],\n",
      "        [0.2380]]), tensor([[0.0720],\n",
      "        [0.9987]]))\n",
      "(tensor([[0.6166, 0.0720]]), tensor([[0.2380, 0.9987]]))\n"
     ]
    }
   ],
   "source": [
    "a = torch.rand(2,2)\n",
    "b = torch.rand(2,2)\n",
    "print(a, b)\n",
    "print(torch.cat([a, b], dim=1).shape)\n",
    "print(torch.cat([a, b], dim=0).shape)\n",
    "print(torch.stack([a, b], dim=0).shape)\n",
    "print(torch.stack([a, b], dim=1).shape)\n",
    "print(a.split(1, dim=1))\n",
    "print(a.chunk(2, dim=0))    # 等量分割"
   ]
  },
  {
   "attachments": {},
   "cell_type": "markdown",
   "metadata": {},
   "source": [
    "# PyTorch 的基本数学运算\n",
    "## 数学运算\n",
    "Add/minus/multiply/divide   \n",
    "Matmul  \n",
    "Pow     \n",
    "Sqrt/rsqrt  \n",
    "Round\n"
   ]
  },
  {
   "cell_type": "code",
   "execution_count": 14,
   "metadata": {},
   "outputs": [
    {
     "name": "stdout",
     "output_type": "stream",
     "text": [
      "tensor([[0.3936, 0.8021, 0.0992, 0.4079],\n",
      "        [0.2735, 0.9221, 0.4205, 0.7846],\n",
      "        [0.4725, 0.3185, 0.5587, 0.2171]]) \n",
      " tensor([0.1174, 0.7374, 0.5564, 0.7846])\n",
      "tensor([[0.5110, 1.5394, 0.6556, 1.1925],\n",
      "        [0.3908, 1.6595, 0.9769, 1.5692],\n",
      "        [0.5899, 1.0558, 1.1151, 1.0017]])\n",
      "tensor([[0.5110, 1.5394, 0.6556, 1.1925],\n",
      "        [0.3908, 1.6595, 0.9769, 1.5692],\n",
      "        [0.5899, 1.0558, 1.1151, 1.0017]])\n"
     ]
    }
   ],
   "source": [
    "# add 加\n",
    "a = torch.rand(3,4)\n",
    "b = torch.rand(4)\n",
    "print(a, \"\\n\", b)\n",
    "print(a+b)\n",
    "print(torch.add(a,b))"
   ]
  },
  {
   "cell_type": "code",
   "execution_count": 15,
   "metadata": {},
   "outputs": [
    {
     "name": "stdout",
     "output_type": "stream",
     "text": [
      "tensor([[ 2.7626e-01,  6.4664e-02, -4.5720e-01, -3.7673e-01],\n",
      "        [ 1.5612e-01,  1.8473e-01, -1.3585e-01,  1.3764e-05],\n",
      "        [ 3.5514e-01, -4.1893e-01,  2.2625e-03, -5.6746e-01]])\n",
      "tensor([[0.0462, 0.5914, 0.0552, 0.3200],\n",
      "        [0.0321, 0.6800, 0.2340, 0.6156],\n",
      "        [0.0555, 0.2348, 0.3108, 0.1704]])\n",
      "tensor([[3.3540, 1.0877, 0.1783, 0.5198],\n",
      "        [2.3303, 1.2505, 0.7558, 1.0000],\n",
      "        [4.0262, 0.4319, 1.0041, 0.2768]])\n"
     ]
    }
   ],
   "source": [
    "# sub 减；mul 乘；div 除\n",
    "print(torch.sub(a,b))\n",
    "print(torch.mul(a,b))\n",
    "print(torch.div(a,b))\n"
   ]
  },
  {
   "cell_type": "code",
   "execution_count": 16,
   "metadata": {},
   "outputs": [
    {
     "data": {
      "text/plain": [
       "tensor(True)"
      ]
     },
     "execution_count": 16,
     "metadata": {},
     "output_type": "execute_result"
    }
   ],
   "source": [
    "torch.eq(a-b, torch.sub(a,b))\n",
    "torch.all(torch.eq(a-b, torch.sub(a,b)))"
   ]
  },
  {
   "cell_type": "code",
   "execution_count": 17,
   "metadata": {},
   "outputs": [
    {
     "name": "stdout",
     "output_type": "stream",
     "text": [
      "tensor([[1.1517]])\n",
      "tensor([[1.1517]])\n"
     ]
    }
   ],
   "source": [
    "# 矩阵相乘 matmul --- 另一种写法：@\n",
    "a = torch.rand(1,4)\n",
    "b = torch.rand(4,1)\n",
    "print(torch.matmul(a,b))\n",
    "print(a@b)\n"
   ]
  },
  {
   "cell_type": "code",
   "execution_count": 18,
   "metadata": {},
   "outputs": [
    {
     "name": "stdout",
     "output_type": "stream",
     "text": [
      "tensor([[9, 9, 9],\n",
      "        [9, 9, 9]])\n",
      "tensor([[9, 9, 9],\n",
      "        [9, 9, 9]])\n"
     ]
    }
   ],
   "source": [
    "# Power exp log\n",
    "# sqrt ,rsqrt\n",
    "a = torch.full([2,3],3)\n",
    "print(a.pow(2))\n",
    "print(a**2)"
   ]
  },
  {
   "attachments": {},
   "cell_type": "markdown",
   "metadata": {},
   "source": [
    "# 统计性质\n",
    "norm----范数        \n",
    "mean_sum    \n",
    "prod----所有元素的积    \n",
    "max, min, argmin, argmax    \n",
    "kthvalue, topk"
   ]
  },
  {
   "cell_type": "code",
   "execution_count": 29,
   "metadata": {},
   "outputs": [
    {
     "name": "stdout",
     "output_type": "stream",
     "text": [
      "tensor([[0., 1., 2., 3.],\n",
      "        [4., 5., 6., 7.]], dtype=torch.float32)\n",
      "tensor(0., dtype=torch.float32) tensor(7., dtype=torch.float32) tensor(3.5000, dtype=torch.float32) tensor(0., dtype=torch.float32)\n"
     ]
    }
   ],
   "source": [
    "a = torch.arange(8).view(2,4).type(torch.FloatTensor)\n",
    "print(a)\n",
    "print(a.min(), a.max(), a.mean(), a.prod())"
   ]
  },
  {
   "cell_type": "code",
   "execution_count": 34,
   "metadata": {},
   "outputs": [
    {
     "name": "stdout",
     "output_type": "stream",
     "text": [
      "1111\n",
      "111111111\n"
     ]
    }
   ],
   "source": [
    "# 类中__call__的使用\n",
    "class test():\n",
    "    def __init__(self, a):\n",
    "        print(a)\n",
    "        pass\n",
    "    def __call__(self, b):\n",
    "        print(b)\n",
    "        pass\n",
    "c = test(1111)\n",
    "c(111111111)"
   ]
  },
  {
   "attachments": {},
   "cell_type": "markdown",
   "metadata": {},
   "source": [
    "# where 和 gather操作"
   ]
  },
  {
   "cell_type": "code",
   "execution_count": 39,
   "metadata": {},
   "outputs": [
    {
     "name": "stdout",
     "output_type": "stream",
     "text": [
      "tensor([[0.2764, 0.6698],\n",
      "        [0.5015, 0.1711]])\n"
     ]
    },
    {
     "data": {
      "text/plain": [
       "tensor([[0., 1.],\n",
       "        [1., 0.]])"
      ]
     },
     "execution_count": 39,
     "metadata": {},
     "output_type": "execute_result"
    }
   ],
   "source": [
    "# where\n",
    "# torch.where(condition, x, y)\n",
    "cond = torch.rand(2,2)\n",
    "print(cond)\n",
    "a = torch.ones(2,2)\n",
    "b = torch.zeros(2,2)\n",
    "torch.where(cond>0.5, a, b)"
   ]
  },
  {
   "cell_type": "code",
   "execution_count": 45,
   "metadata": {},
   "outputs": [
    {
     "name": "stdout",
     "output_type": "stream",
     "text": [
      "tensor([100, 101, 102, 103, 104, 105, 106, 107, 108, 109])\n"
     ]
    },
    {
     "data": {
      "text/plain": [
       "tensor([[101, 101, 102],\n",
       "        [101, 102, 103],\n",
       "        [101, 104, 103],\n",
       "        [100, 105, 103]])"
      ]
     },
     "execution_count": 45,
     "metadata": {},
     "output_type": "execute_result"
    }
   ],
   "source": [
    "# gather搜集\n",
    "# torch.gather(input, dim, index, out=None)\n",
    "a = torch.arange(10)+100\n",
    "print(a)\n",
    "torch.gather(a.expand(4,10), dim=1, index=torch.tensor([[1,1,2],[1,2,3],[1,4,3],[0,5,3]]))"
   ]
  },
  {
   "cell_type": "code",
   "execution_count": null,
   "metadata": {},
   "outputs": [],
   "source": []
  }
 ],
 "metadata": {
  "kernelspec": {
   "display_name": "Python 3",
   "language": "python",
   "name": "python3"
  },
  "language_info": {
   "codemirror_mode": {
    "name": "ipython",
    "version": 3
   },
   "file_extension": ".py",
   "mimetype": "text/x-python",
   "name": "python",
   "nbconvert_exporter": "python",
   "pygments_lexer": "ipython3",
   "version": "3.9.12"
  },
  "orig_nbformat": 4
 },
 "nbformat": 4,
 "nbformat_minor": 2
}
