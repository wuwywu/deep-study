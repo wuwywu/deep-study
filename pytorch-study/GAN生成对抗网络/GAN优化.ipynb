{
 "cells": [
  {
   "cell_type": "code",
   "execution_count": 35,
   "metadata": {},
   "outputs": [
    {
     "data": {
      "text/plain": [
       "<torch._C.Generator at 0x22b03a87210>"
      ]
     },
     "execution_count": 35,
     "metadata": {},
     "output_type": "execute_result"
    }
   ],
   "source": [
    "import os,sys\n",
    "import numpy as np\n",
    "import matplotlib.pyplot as plt\n",
    "import torch\n",
    "import torch.nn as nn\n",
    "\n",
    "sys.path.append(\"./dataset\")\n",
    "# 数据集类\n",
    "from mnist import MnistDataset\n",
    "# GPU usage #########################################\n",
    "# dtype = torch.FloatTensor # uncomment if you are using CPU\n",
    "dtype = torch.cuda.FloatTensor # uncomment if you are using GPU\n",
    "device = torch.device(\"cuda:0\" if torch.cuda.is_available() else \"cpu\")\n",
    "\n",
    "torch.manual_seed(3)"
   ]
  },
  {
   "attachments": {},
   "cell_type": "markdown",
   "metadata": {},
   "source": [
    "# 鉴别器\n",
    "## 改进一：使用二元交叉熵BCELoss()\n",
    "## 改进二：使用泄露的线性整流激活函数LeakyReLU()\n",
    "## 改进三：使用层归一化方法\n",
    "## 改进四：使用Adam优化器"
   ]
  },
  {
   "cell_type": "code",
   "execution_count": 36,
   "metadata": {},
   "outputs": [],
   "source": [
    "class Discriminator(nn.Module):\n",
    "    def __init__(self):\n",
    "        # 初始化PyTorch父类\n",
    "        super().__init__()\n",
    "\n",
    "        # 定义神经网络层\n",
    "        self.model = nn.Sequential(\n",
    "                        nn.Linear(28*28, 200),\n",
    "                        # nn.Sigmoid(),\n",
    "                        nn.LeakyReLU(0.02),\n",
    "\n",
    "                        nn.LayerNorm(200),\n",
    "\n",
    "                        nn.Linear(200, 1),\n",
    "                        nn.Sigmoid()\n",
    "        ).type(dtype)\n",
    "\n",
    "        # 创建损失函数\n",
    "        # self.loss_function = nn.MSELoss()\n",
    "        self.loss_function = nn.BCELoss()\n",
    "\n",
    "        # 创建优化器, 使用随机梯度下降\n",
    "        # self.optimiser = torch.optim.SGD(self.parameters(), \n",
    "        #                                     lr=0.01)\n",
    "        self.optimiser = torch.optim.Adam(self.parameters(), \n",
    "                                            lr=0.0001)\n",
    "\n",
    "        # 计数器和进程记录\n",
    "        self.counter = 0\n",
    "        self.progress = []\n",
    "                \n",
    "    def forward(self,inputs):\n",
    "        return self.model(inputs)\n",
    "    \n",
    "    def train(self, inputs, targets):\n",
    "        # 计算网络的输出\n",
    "        outputs = self.model(inputs)\n",
    "        \n",
    "        # 计算损失值\n",
    "        loss = self.loss_function(outputs, targets)\n",
    "        \n",
    "        # 每训练10次增加计数器\n",
    "        if (self.counter % 10 == 0):    self.progress.append(loss.item())\n",
    "\n",
    "        # if (self.counter % 10000 == 0): print(\"counter = \", self.counter)\n",
    "\n",
    "        # 归零梯度，反向传播，并更新权重\n",
    "        self.optimiser.zero_grad()\n",
    "        loss.backward()\n",
    "        self.optimiser.step()\n",
    "\n",
    "        self.counter += 1\n",
    "\n",
    "        pass\n",
    "    \n",
    "    def plot_progress(self):\n",
    "        plt.scatter(np.arange(1, int(self.counter/10)+1),self.progress,s=10,c=\"tab:pink\",label=\"Discriminator loss\")\n",
    "        plt.xlabel(\"time/10\") \n",
    "        plt.ylabel(\"loss\")\n",
    "        \n",
    "        plt.show()\n",
    "        pass"
   ]
  },
  {
   "attachments": {},
   "cell_type": "markdown",
   "metadata": {},
   "source": [
    "# 生成器\n",
    "## 改进五：增加生成器随机输入的数量\n",
    "## 改进六：将生成器的随机输入改进位标准高斯分布\n",
    "## 改进七：加多训练的世代数"
   ]
  },
  {
   "cell_type": "code",
   "execution_count": 37,
   "metadata": {},
   "outputs": [],
   "source": [
    "class Generator(nn.Module):\n",
    "    def __init__(self):\n",
    "        # 初始化PyTorch父类\n",
    "        super().__init__()\n",
    "\n",
    "        # 定义神经网络层\n",
    "        self.model = nn.Sequential(\n",
    "                    nn.Linear(100, 200),\n",
    "                    # nn.Sigmoid(),\n",
    "                    nn.LeakyReLU(0.02),\n",
    "\n",
    "                    nn.LayerNorm(200),\n",
    "                        \n",
    "                    nn.Linear(200, 28*28),\n",
    "                    nn.Sigmoid()\n",
    "        ).type(dtype)\n",
    "\n",
    "        # 创建优化器，使用随机梯度下降\n",
    "        # self.optimiser = torch.optim.SGD(self.parameters(), \n",
    "        #                                     lr=0.01)\n",
    "        self.optimiser = torch.optim.Adam(self.parameters(), \n",
    "                                            lr=0.0001)\n",
    "        \n",
    "        # 计数器和进程记录\n",
    "        self.counter = 0\n",
    "        self.progress = []\n",
    "\n",
    "    def forward(self, inputs):\n",
    "        # 直接运行模型\n",
    "        return self.model(inputs)\n",
    "    \n",
    "    def train(self, D, inputs, targets):\n",
    "        # 计算网络输出\n",
    "        g_output = self.forward(inputs)\n",
    "\n",
    "        # 输入鉴别器\n",
    "        d_output = D.forward(g_output)\n",
    "\n",
    "        # 计算损失值\n",
    "        loss = D.loss_function(d_output, targets)\n",
    "\n",
    "        # 每训练10次增加计数器\n",
    "        if (self.counter % 10 == 0):    self.progress.append(loss.item())\n",
    "\n",
    "        if (self.counter % 30000 == 0): print(\"counter = \", self.counter)\n",
    "\n",
    "        # 归零梯度，反向传播，并更新权重\n",
    "        self.optimiser.zero_grad()\n",
    "        loss.backward()\n",
    "        self.optimiser.step()\n",
    "\n",
    "        self.counter += 1\n",
    "    \n",
    "    def plot_progress(self):\n",
    "        plt.scatter(np.arange(1, int(self.counter/10)+1),self.progress,s=10,c=\"tab:pink\",label=\"Generator loss\")\n",
    "        plt.xlabel(\"time/10\") \n",
    "        plt.ylabel(\"loss\")\n",
    "        \n",
    "        plt.show()\n",
    "        pass\n",
    "\n",
    "    def plot_image(self, inputs):\n",
    "        # 计算网络输出\n",
    "        g_output = self.forward(inputs)\n",
    "        g_output = np.array(g_output.detach().cpu()).reshape(28,28)\n",
    "        figure, ax = plt.subplots()\n",
    "        im = ax.imshow(g_output)\n",
    "        plt.colorbar(im)\n",
    "        plt.title('image of Generator')\n",
    "        plt.show()\n",
    "\n",
    "    def plot_image6(self, inputs):\n",
    "        figure, ax = plt.subplots(2,3,figsize=(16,8))\n",
    "        for i in range(2):\n",
    "            for j in range(3):\n",
    "                g_output = self.forward(inputs())\n",
    "                g_output = np.array(g_output.detach().cpu()).reshape(28,28)\n",
    "                ax[i,j].imshow(g_output,interpolation='none',cmap='Blues')"
   ]
  },
  {
   "attachments": {},
   "cell_type": "markdown",
   "metadata": {},
   "source": [
    "# 训练网络"
   ]
  },
  {
   "cell_type": "code",
   "execution_count": 38,
   "metadata": {},
   "outputs": [],
   "source": [
    "# 创建生成器和鉴别器\n",
    "D = Discriminator()\n",
    "G = Generator()"
   ]
  },
  {
   "attachments": {},
   "cell_type": "markdown",
   "metadata": {},
   "source": [
    "# 测试生成器"
   ]
  },
  {
   "cell_type": "code",
   "execution_count": 39,
   "metadata": {},
   "outputs": [],
   "source": [
    "def generate_random(size=1):\n",
    "    random_data = torch.rand(size).type(dtype)\n",
    "    return random_data\n",
    "def generate_random_norm(size=100):\n",
    "    random_data = torch.randn(size).type(dtype)\n",
    "    return random_data"
   ]
  },
  {
   "cell_type": "code",
   "execution_count": 40,
   "metadata": {},
   "outputs": [
    {
     "data": {
      "image/png": "[encoded data removed]",
      "text/plain": [
       "<Figure size 1600x800 with 6 Axes>"
      ]
     },
     "metadata": {},
     "output_type": "display_data"
    }
   ],
   "source": [
    "G.plot_image6(generate_random_norm)"
   ]
  },
  {
   "attachments": {},
   "cell_type": "markdown",
   "metadata": {},
   "source": [
    "# 导入数据集"
   ]
  },
  {
   "cell_type": "code",
   "execution_count": 41,
   "metadata": {},
   "outputs": [
    {
     "name": "stdout",
     "output_type": "stream",
     "text": [
      "dataset_images is existing\n",
      "dataset_labels is existing\n"
     ]
    }
   ],
   "source": [
    "path = r\"./dataset\"\n",
    "\n",
    "filename_images = \"train-images-idx3-ubyte\"\n",
    "filename_labels = \"train-labels-idx1-ubyte\"\n",
    "filename_images = path+\"/\"+filename_images\n",
    "filename_labels = path+\"/\"+filename_labels\n",
    "\n",
    "\n",
    "Mnist_train = MnistDataset(filename_images, filename_labels)"
   ]
  },
  {
   "cell_type": "code",
   "execution_count": 42,
   "metadata": {},
   "outputs": [
    {
     "name": "stdout",
     "output_type": "stream",
     "text": [
      "epoch =  1\n",
      "counter =  0\n"
     ]
    }
   ],
   "source": [
    "epochs = 10\n",
    "for epoch in range(epochs):\n",
    "    print (\"epoch = \", epoch + 1)\n",
    "    for label, image_values, target in Mnist_train:\n",
    "        # 正确值\n",
    "        D.train(image_values.type(dtype), torch.FloatTensor([1.0]).type(dtype))\n",
    "        # 用生成器生成的数据训练鉴别器（错误 0.0）\n",
    "        D.train(G.forward(generate_random_norm()).detach(), torch.FloatTensor([0.0]).type(dtype))\n",
    "        # 用生成器生成的数据训练生成器(正确 1.0）\n",
    "        G.train(D, generate_random_norm(), torch.FloatTensor([1.0]).type(dtype))"
   ]
  },
  {
   "cell_type": "code",
   "execution_count": null,
   "metadata": {},
   "outputs": [],
   "source": [
    "G.plot_image6(generate_random_norm)"
   ]
  },
  {
   "attachments": {},
   "cell_type": "markdown",
   "metadata": {},
   "source": [
    "# 优化\n",
    "1、损失函数     \n",
    "2、激活函数     \n",
    "3、优化器       \n",
    "4、网络结构"
   ]
  },
  {
   "cell_type": "code",
   "execution_count": null,
   "metadata": {},
   "outputs": [],
   "source": [
    "figure, ax = plt.subplots(2,3,figsize=(16,8))\n",
    "for i in range(2):\n",
    "    for j in range(3):\n",
    "        g_output = G.forward(generate_random_norm())\n",
    "        g_output = np.array(g_output.detach().cpu()).reshape(28,28)\n",
    "        ax[i,j].imshow(g_output,interpolation='none',cmap='Blues')"
   ]
  }
 ],
 "metadata": {
  "kernelspec": {
   "display_name": "Python 3",
   "language": "python",
   "name": "python3"
  },
  "language_info": {
   "codemirror_mode": {
    "name": "ipython",
    "version": 3
   },
   "file_extension": ".py",
   "mimetype": "text/x-python",
   "name": "python",
   "nbconvert_exporter": "python",
   "pygments_lexer": "ipython3",
   "version": "3.9.12"
  },
  "orig_nbformat": 4
 },
 "nbformat": 4,
 "nbformat_minor": 2
}
