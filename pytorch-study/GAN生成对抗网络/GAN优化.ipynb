{
 "cells": [
  {
   "cell_type": "code",
   "execution_count": 3,
   "metadata": {},
   "outputs": [
    {
     "data": {
      "text/plain": [
       "<torch._C.Generator at 0x1f222221c50>"
      ]
     },
     "execution_count": 3,
     "metadata": {},
     "output_type": "execute_result"
    }
   ],
   "source": [
    "import os,sys\n",
    "import numpy as np\n",
    "import matplotlib.pyplot as plt\n",
    "import torch\n",
    "import torch.nn as nn\n",
    "\n",
    "sys.path.append(\"./dataset\")\n",
    "# 数据集类\n",
    "from mnist import MnistDataset\n",
    "\n",
    "torch.manual_seed(3)"
   ]
  },
  {
   "attachments": {},
   "cell_type": "markdown",
   "metadata": {},
   "source": [
    "# 鉴别器"
   ]
  },
  {
   "cell_type": "code",
   "execution_count": 4,
   "metadata": {},
   "outputs": [],
   "source": [
    "class Discriminator(nn.Module):\n",
    "    def __init__(self):\n",
    "        # 初始化PyTorch父类\n",
    "        super().__init__()\n",
    "\n",
    "        # 定义神经网络层\n",
    "        self.model = nn.Sequential(\n",
    "                        nn.Linear(28*28, 200),\n",
    "                        nn.Sigmoid(),\n",
    "                        nn.Linear(200, 1),\n",
    "                        nn.Sigmoid()\n",
    "        )\n",
    "\n",
    "        # 创建损失函数\n",
    "        self.loss_function = nn.MSELoss()\n",
    "\n",
    "        # 创建优化器, 使用随机梯度下降\n",
    "        self.optimiser = torch.optim.SGD(self.parameters(), \n",
    "                                            lr=0.01)\n",
    "        \n",
    "        # 计数器和进程记录\n",
    "        self.counter = 0\n",
    "        self.progress = []\n",
    "                \n",
    "    def forward(self,inputs):\n",
    "        return self.model(inputs)\n",
    "    \n",
    "    def train(self, inputs, targets):\n",
    "        # 计算网络的输出\n",
    "        outputs = self.model(inputs)\n",
    "        \n",
    "        # 计算损失值\n",
    "        loss = self.loss_function(outputs, targets)\n",
    "        \n",
    "        # 每训练10次增加计数器\n",
    "        if (self.counter % 10 == 0):    self.progress.append(loss.item())\n",
    "\n",
    "        if (self.counter % 10000 == 0): print(\"counter = \", self.counter)\n",
    "\n",
    "        # 归零梯度，反向传播，并更新权重\n",
    "        self.optimiser.zero_grad()\n",
    "        loss.backward()\n",
    "        self.optimiser.step()\n",
    "\n",
    "        self.counter += 1\n",
    "\n",
    "        pass\n",
    "    \n",
    "    def plot_progress(self):\n",
    "        plt.scatter(np.arange(1, int(self.counter/10)+1),self.progress,s=10,c=\"tab:pink\",label=\"Discriminator loss\")\n",
    "        plt.xlabel(\"time/10\") \n",
    "        plt.ylabel(\"loss\")\n",
    "        \n",
    "        plt.show()\n",
    "        pass"
   ]
  },
  {
   "attachments": {},
   "cell_type": "markdown",
   "metadata": {},
   "source": [
    "# 生成器"
   ]
  },
  {
   "cell_type": "code",
   "execution_count": 41,
   "metadata": {},
   "outputs": [],
   "source": [
    "class Generator(nn.Module):\n",
    "    def __init__(self):\n",
    "        # 初始化PyTorch父类\n",
    "        super().__init__()\n",
    "\n",
    "        # 定义神经网络层\n",
    "        self.model = nn.Sequential(\n",
    "                    nn.Linear(1, 200),\n",
    "                    nn.Sigmoid(),\n",
    "                    nn.Linear(200, 28*28),\n",
    "                    nn.Sigmoid()\n",
    "        )\n",
    "\n",
    "        # 创建优化器，使用随机梯度下降\n",
    "        self.optimiser = torch.optim.SGD(self.parameters(), \n",
    "                                            lr=0.01)\n",
    "        \n",
    "        # 计数器和进程记录\n",
    "        self.counter = 0\n",
    "        self.progress = []\n",
    "\n",
    "    def forward(self, inputs):\n",
    "        # 直接运行模型\n",
    "        return self.model(inputs)\n",
    "    \n",
    "    def train(self, D, inputs, targets):\n",
    "        # 计算网络输出\n",
    "        g_output = self.forward(inputs)\n",
    "\n",
    "        # 输入鉴别器\n",
    "        d_output = D.forward(g_output)\n",
    "\n",
    "        # 计算损失值\n",
    "        loss = D.loss_function(d_output, targets)\n",
    "\n",
    "        # 每训练10次增加计数器\n",
    "        if (self.counter % 10 == 0):    self.progress.append(loss.item())\n",
    "\n",
    "        # 归零梯度，反向传播，并更新权重\n",
    "        self.optimiser.zero_grad()\n",
    "        loss.backward()\n",
    "        self.optimiser.step()\n",
    "\n",
    "        self.counter += 1\n",
    "    \n",
    "    def plot_progress(self):\n",
    "        plt.scatter(np.arange(1, int(self.counter/10)+1),self.progress,s=10,c=\"tab:pink\",label=\"Generator loss\")\n",
    "        plt.xlabel(\"time/10\") \n",
    "        plt.ylabel(\"loss\")\n",
    "        \n",
    "        plt.show()\n",
    "        pass\n",
    "\n",
    "    def plot_image(self, inputs):\n",
    "        # 计算网络输出\n",
    "        g_output = self.forward(inputs)\n",
    "        g_output = np.array(g_output.detach()).reshape(28,28)\n",
    "        figure, ax = plt.subplots()\n",
    "        im = ax.imshow(g_output)\n",
    "        plt.colorbar(im)\n",
    "        plt.title('image of Generator')\n",
    "        plt.show()\n",
    "\n",
    "    def plot_image6(self, inputs):\n",
    "        figure, ax = plt.subplots(2,3,figsize=(16,8))\n",
    "        for i in range(2):\n",
    "            for j in range(3):\n",
    "                g_output = self.forward(inputs)\n",
    "                g_output = np.array(g_output.detach()).reshape(28,28)\n",
    "                ax[i,j].imshow(g_output,interpolation='none',cmap='Blues')"
   ]
  },
  {
   "attachments": {},
   "cell_type": "markdown",
   "metadata": {},
   "source": [
    "# 训练网络"
   ]
  },
  {
   "cell_type": "code",
   "execution_count": 42,
   "metadata": {},
   "outputs": [],
   "source": [
    "# 创建生成器和鉴别器\n",
    "D = Discriminator()\n",
    "G = Generator()"
   ]
  },
  {
   "attachments": {},
   "cell_type": "markdown",
   "metadata": {},
   "source": [
    "# 测试生成器"
   ]
  },
  {
   "cell_type": "code",
   "execution_count": 43,
   "metadata": {},
   "outputs": [],
   "source": [
    "def generate_random(size=1):\n",
    "    random_data = torch.rand(size)\n",
    "    return random_data"
   ]
  },
  {
   "cell_type": "code",
   "execution_count": 44,
   "metadata": {},
   "outputs": [
    {
     "data": {
      "image/png": "[encoded data removed]",
      "text/plain": [
       "<Figure size 1600x800 with 6 Axes>"
      ]
     },
     "metadata": {},
     "output_type": "display_data"
    }
   ],
   "source": [
    "G.plot_image6(generate_random())"
   ]
  },
  {
   "attachments": {},
   "cell_type": "markdown",
   "metadata": {},
   "source": [
    "# 导入数据集"
   ]
  },
  {
   "cell_type": "code",
   "execution_count": 16,
   "metadata": {},
   "outputs": [
    {
     "name": "stdout",
     "output_type": "stream",
     "text": [
      "dataset_images is existing\n",
      "dataset_labels is existing\n"
     ]
    }
   ],
   "source": [
    "path = r\"./dataset\"\n",
    "\n",
    "filename_images = \"train-images-idx3-ubyte\"\n",
    "filename_labels = \"train-labels-idx1-ubyte\"\n",
    "filename_images = path+\"/\"+filename_images\n",
    "filename_labels = path+\"/\"+filename_labels\n",
    "\n",
    "\n",
    "Mnist_train = MnistDataset(filename_images, filename_labels)"
   ]
  },
  {
   "cell_type": "code",
   "execution_count": 17,
   "metadata": {},
   "outputs": [
    {
     "name": "stdout",
     "output_type": "stream",
     "text": [
      "counter =  0\n",
      "counter =  10000\n",
      "counter =  20000\n",
      "counter =  30000\n",
      "counter =  40000\n",
      "counter =  50000\n",
      "counter =  60000\n",
      "counter =  70000\n",
      "counter =  80000\n",
      "counter =  90000\n",
      "counter =  100000\n",
      "counter =  110000\n"
     ]
    }
   ],
   "source": [
    "for label, image_values, target in Mnist_train:\n",
    "    # 正确值\n",
    "    D.train(image_values, torch.FloatTensor([1.0]))\n",
    "    # 用生成器生成的数据训练鉴别器（错误 0.0）\n",
    "    D.train(G.forward(generate_random()).detach(), torch.FloatTensor([0.0]))\n",
    "    # 用生成器生成的数据训练生成器(正确 1.0）\n",
    "    G.train(D, generate_random(), torch.FloatTensor([1.0]))"
   ]
  },
  {
   "cell_type": "code",
   "execution_count": 21,
   "metadata": {},
   "outputs": [
    {
     "data": {
      "image/png": "[encoded data removed]",
      "text/plain": [
       "<Figure size 640x480 with 2 Axes>"
      ]
     },
     "metadata": {},
     "output_type": "display_data"
    }
   ],
   "source": [
    "G.plot_image(generate_random())"
   ]
  }
 ],
 "metadata": {
  "kernelspec": {
   "display_name": "Python 3",
   "language": "python",
   "name": "python3"
  },
  "language_info": {
   "codemirror_mode": {
    "name": "ipython",
    "version": 3
   },
   "file_extension": ".py",
   "mimetype": "text/x-python",
   "name": "python",
   "nbconvert_exporter": "python",
   "pygments_lexer": "ipython3",
   "version": "3.9.7"
  },
  "orig_nbformat": 4
 },
 "nbformat": 4,
 "nbformat_minor": 2
}
