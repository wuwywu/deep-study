{
 "cells": [
  {
   "attachments": {},
   "cell_type": "markdown",
   "metadata": {},
   "source": [
    "# GAN\n",
    "第1步——向鉴别器展示一个真实的数据样本，告诉它该样本的分类应该是1.0。    \n",
    "第2步——向鉴别器显示一个生成器的输出，告诉它该样本的分类应该是0.0。  \n",
    "第3步——向鉴别器显示一个生成器的输出，告诉生成器结果应该是1.0。  "
   ]
  },
  {
   "cell_type": "code",
   "execution_count": 7,
   "metadata": {},
   "outputs": [],
   "source": [
    "import torch\n",
    "import torch.nn as nn\n",
    "import pandas\n",
    "import matplotlib.pyplot as plt\n",
    "import numpy as np"
   ]
  },
  {
   "attachments": {},
   "cell_type": "markdown",
   "metadata": {},
   "source": [
    "# torch.nn\n",
    "torch.nn是一个非常重要的模块，是pytorch神经网络模块化的核心。这个模块定义了一些列模块，包括卷积层nn.ConvNd(N=1,2,3)和线性层（全连接层）nn.linear等。另外，torch.nn中也定义了一些列的损失函数。"
   ]
  },
  {
   "cell_type": "code",
   "execution_count": 23,
   "metadata": {},
   "outputs": [],
   "source": [
    "np.random.seed(10)\n",
    "dtype = torch.FloatTensor\n",
    "def generate_real():\n",
    "    real_data = torch.FloatTensor(\n",
    "            [np.random.uniform(0.8, 1.0),\n",
    "            np.random.uniform(0.0, 0.2),\n",
    "            np.random.uniform(0.8, 1.0),\n",
    "            np.random.uniform(0.0, 0.2)])     # CPU上32位浮点型\n",
    "    return real_data\n"
   ]
  },
  {
   "attachments": {},
   "cell_type": "markdown",
   "metadata": {},
   "source": [
    "# parameters()\n",
    "其中放入了可以优化的参数---权重和偏置量"
   ]
  },
  {
   "cell_type": "code",
   "execution_count": 63,
   "metadata": {},
   "outputs": [
    {
     "name": "stdout",
     "output_type": "stream",
     "text": [
      "[('0.weight', Parameter containing:\n",
      "tensor([[-0.8194]], requires_grad=True)), ('0.bias', Parameter containing:\n",
      "tensor([0.5863], requires_grad=True)), ('1.weight', Parameter containing:\n",
      "tensor([[ 0.9539],\n",
      "        [-0.5931]], requires_grad=True)), ('1.bias', Parameter containing:\n",
      "tensor([0.9821, 0.6215], requires_grad=True))]\n"
     ]
    }
   ],
   "source": [
    "model = nn.Sequential(nn.Linear(1, 1).type(dtype),\n",
    "                        nn.Linear(1, 2).type(dtype))\n",
    "# model1=nn.Linear(1, 1).type(dtype)\n",
    "# model2=nn.Linear(1, 1).type(dtype)\n",
    "# 方法一\n",
    "# for i in model.parameters():\n",
    "#     print(i)\n",
    "\n",
    "# 方法二\n",
    "# for i in model.named_parameters():\n",
    "#     print(i)\n",
    "\n",
    "#方法三\n",
    "# for i in model.state_dict():\n",
    "#     print(i)\n",
    "\n",
    "a = list(model.parameters())\n",
    "b = list(model.named_parameters())\n",
    "c = model.state_dict()\n",
    "print(b)\n"
   ]
  },
  {
   "cell_type": "code",
   "execution_count": 47,
   "metadata": {},
   "outputs": [
    {
     "name": "stdout",
     "output_type": "stream",
     "text": [
      "tensor([ 0.3021, -0.9483], grad_fn=<AddBackward0>)\n"
     ]
    }
   ],
   "source": [
    "print((model(torch.tensor([0]).type(dtype))))"
   ]
  },
  {
   "cell_type": "code",
   "execution_count": null,
   "metadata": {},
   "outputs": [],
   "source": []
  }
 ],
 "metadata": {
  "kernelspec": {
   "display_name": "Python 3",
   "language": "python",
   "name": "python3"
  },
  "language_info": {
   "codemirror_mode": {
    "name": "ipython",
    "version": 3
   },
   "file_extension": ".py",
   "mimetype": "text/x-python",
   "name": "python",
   "nbconvert_exporter": "python",
   "pygments_lexer": "ipython3",
   "version": "3.9.7"
  },
  "orig_nbformat": 4
 },
 "nbformat": 4,
 "nbformat_minor": 2
}
