{
 "cells": [
  {
   "attachments": {},
   "cell_type": "markdown",
   "metadata": {},
   "source": [
    "# GAN\n",
    "第1步——向鉴别器展示一个真实的数据样本，告诉它该样本的分类应该是1.0。    \n",
    "第2步——向鉴别器显示一个生成器的输出，告诉它该样本的分类应该是0.0。  \n",
    "第3步——向鉴别器显示一个生成器的输出，告诉生成器结果应该是1.0。  "
   ]
  },
  {
   "cell_type": "code",
   "execution_count": 16,
   "metadata": {},
   "outputs": [],
   "source": [
    "import torch\n",
    "import torch.nn as nn\n",
    "import pandas\n",
    "import matplotlib.pyplot as plt\n",
    "import numpy as np\n",
    "import matplotlib.pyplot as plt"
   ]
  },
  {
   "attachments": {},
   "cell_type": "markdown",
   "metadata": {},
   "source": [
    "# torch.nn\n",
    "torch.nn是一个非常重要的模块，是pytorch神经网络模块化的核心。这个模块定义了一些列模块，包括卷积层nn.ConvNd(N=1,2,3)和线性层（全连接层）nn.linear等。另外，torch.nn中也定义了一些列的损失函数。"
   ]
  },
  {
   "cell_type": "code",
   "execution_count": 7,
   "metadata": {},
   "outputs": [],
   "source": [
    "np.random.seed(10)\n",
    "dtype = torch.FloatTensor\n",
    "def generate_real():\n",
    "    real_data = torch.FloatTensor(\n",
    "            [np.random.uniform(0.8, 1.0),\n",
    "            np.random.uniform(0.0, 0.2),\n",
    "            np.random.uniform(0.8, 1.0),\n",
    "            np.random.uniform(0.0, 0.2)])     # CPU上32位浮点型\n",
    "    return real_data\n"
   ]
  },
  {
   "attachments": {},
   "cell_type": "markdown",
   "metadata": {},
   "source": [
    "# parameters()\n",
    "其中放入了可以优化的参数---权重和偏置量"
   ]
  },
  {
   "cell_type": "code",
   "execution_count": 32,
   "metadata": {},
   "outputs": [
    {
     "name": "stdout",
     "output_type": "stream",
     "text": [
      "Parameter containing:\n",
      "tensor([-0.9769,  1.0000], requires_grad=True)\n"
     ]
    }
   ],
   "source": [
    "\n",
    "\n",
    "model = nn.Sequential(nn.Linear(1, 1).type(dtype),\n",
    "                        nn.Linear(1, 2).type(dtype))\n",
    "# model1=nn.Linear(1, 1).type(dtype)\n",
    "# model2=nn.Linear(1, 1).type(dtype)\n",
    "# 方法一\n",
    "# for i in model.parameters():\n",
    "#     print(i)\n",
    "\n",
    "# 方法二\n",
    "# for i in model.named_parameters():\n",
    "#     print(i)\n",
    "\n",
    "#方法三\n",
    "# for i in model.state_dict():\n",
    "#     print(i)\n",
    "\n",
    "# a = list(model.parameters())\n",
    "# b = list(model.named_parameters())\n",
    "# c = model.state_dict()\n",
    "# d = model1.state_dict()\n",
    "# print(d)\n",
    "\n",
    "# print((model(torch.tensor([0]).type(dtype))))\n",
    "nn.init.constant_(model[1].bias[1],1)\n",
    "print(model[1].bias)\n",
    "# 自定义放入参数\n"
   ]
  },
  {
   "attachments": {},
   "cell_type": "markdown",
   "metadata": {},
   "source": [
    "# 自定义函数层"
   ]
  },
  {
   "cell_type": "code",
   "execution_count": 4,
   "metadata": {},
   "outputs": [
    {
     "name": "stdout",
     "output_type": "stream",
     "text": [
      "tensor([12.])\n"
     ]
    }
   ],
   "source": [
    "class active_test1(nn.Module):\n",
    "    def __init__(self):\n",
    "        super().__init__()\n",
    "    def forward(self, x):\n",
    "        return x*1\n",
    "    \n",
    "class active_test2(nn.Module):\n",
    "    def __init__(self):\n",
    "        super().__init__()\n",
    "    def forward(self, x):\n",
    "        return x*2\n",
    "    \n",
    "class active_test3(nn.Module):\n",
    "    def __init__(self):\n",
    "        super().__init__()\n",
    "    def forward(self, x):\n",
    "        return x*3\n",
    "    \n",
    "model = nn.Sequential(active_test1(),\n",
    "                        active_test2(),\n",
    "                        active_test3())\n",
    "\n",
    "print((model(torch.tensor([2]).type(dtype))))"
   ]
  },
  {
   "attachments": {},
   "cell_type": "markdown",
   "metadata": {},
   "source": [
    "# 类的继承"
   ]
  },
  {
   "cell_type": "code",
   "execution_count": 5,
   "metadata": {},
   "outputs": [
    {
     "name": "stdout",
     "output_type": "stream",
     "text": [
      "__call__的使用\n"
     ]
    }
   ],
   "source": [
    "class test1():\n",
    "    def __init__(self, a = \"required\"):\n",
    "        if a != \"required\":    self.aa = a\n",
    "        self.a = 1\n",
    "        self.b = 2\n",
    "    # 魔术函数\n",
    "    def __call__(self, x):\n",
    "        print(x)\n",
    "    def forward(self,x):\n",
    "        return 2*x\n",
    "\n",
    "    \n",
    "class test2(test1):\n",
    "    def __init__(self, a = \"required\"):\n",
    "        super().__init__(a = a)\n",
    "        self.c = 3\n",
    "        # print(super().forward(6))\n",
    "    def backward(self,x):\n",
    "        return 3*x\n",
    "    \n",
    "aaa=test1(4)\n",
    "aaa(\"__call__的使用\")"
   ]
  },
  {
   "attachments": {},
   "cell_type": "markdown",
   "metadata": {},
   "source": [
    "# 均方损失函数 MSELoss(the mean squared error)"
   ]
  },
  {
   "cell_type": "code",
   "execution_count": 16,
   "metadata": {},
   "outputs": [
    {
     "data": {
      "text/plain": [
       "2.5"
      ]
     },
     "execution_count": 16,
     "metadata": {},
     "output_type": "execute_result"
    }
   ],
   "source": [
    "a = nn.MSELoss().type(dtype)\n",
    "a1=torch.tensor([1,2]).type(dtype)\n",
    "a2=torch.tensor([3,3]).type(dtype)\n",
    "a(a1,a2).item()"
   ]
  },
  {
   "attachments": {},
   "cell_type": "markdown",
   "metadata": {},
   "source": [
    "# 使用backward求导"
   ]
  },
  {
   "cell_type": "code",
   "execution_count": 7,
   "metadata": {},
   "outputs": [
    {
     "name": "stdout",
     "output_type": "stream",
     "text": [
      "tensor(4.) tensor(2.)\n"
     ]
    }
   ],
   "source": [
    "a=torch.tensor(1.,requires_grad=True) # \n",
    "b= torch.tensor(2.,requires_grad=True)\n",
    "y = 2*(a*b)\n",
    "\n",
    "# z=np.sin(y*2*3)\n",
    "z = (y*6)**2\n",
    "# a.type()\n",
    "y.backward()\n",
    "\n",
    "print(a.grad, b.grad)"
   ]
  },
  {
   "cell_type": "code",
   "execution_count": null,
   "metadata": {},
   "outputs": [],
   "source": []
  }
 ],
 "metadata": {
  "kernelspec": {
   "display_name": "Python 3",
   "language": "python",
   "name": "python3"
  },
  "language_info": {
   "codemirror_mode": {
    "name": "ipython",
    "version": 3
   },
   "file_extension": ".py",
   "mimetype": "text/x-python",
   "name": "python",
   "nbconvert_exporter": "python",
   "pygments_lexer": "ipython3",
   "version": "3.9.12"
  },
  "orig_nbformat": 4
 },
 "nbformat": 4,
 "nbformat_minor": 2
}
