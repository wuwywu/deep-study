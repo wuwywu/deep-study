{
 "cells": [
  {
   "attachments": {},
   "cell_type": "markdown",
   "metadata": {},
   "source": [
    "# CelebA 人脸图像数据下载"
   ]
  },
  {
   "cell_type": "code",
   "execution_count": 1,
   "metadata": {},
   "outputs": [],
   "source": [
    "import torchvision.datasets"
   ]
  },
  {
   "cell_type": "code",
   "execution_count": 4,
   "metadata": {},
   "outputs": [],
   "source": [
    "# 下载\n",
    "# mnist_dataset = torchvision.datasets.CelebA(root='.', download=True)"
   ]
  },
  {
   "cell_type": "code",
   "execution_count": 24,
   "metadata": {},
   "outputs": [],
   "source": [
    "import h5py\n",
    "import zipfile\n",
    "import imageio\n",
    "import os\n",
    "import numpy as np"
   ]
  },
  {
   "cell_type": "code",
   "execution_count": 27,
   "metadata": {},
   "outputs": [
    {
     "name": "stdout",
     "output_type": "stream",
     "text": [
      "(218, 178, 3)\n"
     ]
    },
    {
     "name": "stderr",
     "output_type": "stream",
     "text": [
      "C:\\Users\\67642\\AppData\\Local\\Temp\\ipykernel_6984\\1380919261.py:14: DeprecationWarning: Starting with ImageIO v3 the behavior of this function will switch to that of iio.v3.imread. To keep the current behavior (and make this warning disappear) use `import imageio.v2 as imageio` or call `imageio.v2.imread` directly.\n",
      "  img = imageio.imread(ofile)\n"
     ]
    }
   ],
   "source": [
    "# 生成分成结构数据格式\n",
    "hdf5_file = r\".//celeba//celeba_aligned_small.h5py\"\n",
    "celebadat = r\".//celeba//img_align_celeba.zip\"\n",
    "# print(os.path.exists(celebadat))\n",
    "# 从 202,599 个图像中提取一部分图像进行训练\n",
    "total_images = 20000    # 设定训练数据集的大小\n",
    "\n",
    "with h5py.File(hdf5_file, \"w\") as hf:\n",
    "\n",
    "    count = 0\n",
    "\n",
    "    with zipfile.ZipFile(celebadat, \"r\") as zf:\n",
    "        # ofile = zf.extract(\"img_align_celeba/000001.jpg\")\n",
    "        # img = imageio.imread(ofile)\n",
    "        \n",
    "        for i in zf.namelist():\n",
    "            # print(i)\n",
    "            if i[-4:] == \".jpg\":\n",
    "                ofile = zf.extract(i)   # 解压单个文件，返回文件绝对路劲\n",
    "                img = imageio.imread(ofile) # 读取文件数据\n",
    "                os.remove(ofile)        # 移除文件 \n",
    "    \n",
    "                \n",
    "\n",
    "\n"
   ]
  }
 ],
 "metadata": {
  "kernelspec": {
   "display_name": "Python 3",
   "language": "python",
   "name": "python3"
  },
  "language_info": {
   "codemirror_mode": {
    "name": "ipython",
    "version": 3
   },
   "file_extension": ".py",
   "mimetype": "text/x-python",
   "name": "python",
   "nbconvert_exporter": "python",
   "pygments_lexer": "ipython3",
   "version": "3.9.7"
  },
  "orig_nbformat": 4
 },
 "nbformat": 4,
 "nbformat_minor": 2
}
