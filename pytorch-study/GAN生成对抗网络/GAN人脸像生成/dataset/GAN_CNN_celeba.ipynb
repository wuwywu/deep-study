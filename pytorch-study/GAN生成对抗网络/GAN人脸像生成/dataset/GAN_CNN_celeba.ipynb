{
 "cells": [
  {
   "cell_type": "code",
   "execution_count": 1,
   "metadata": {},
   "outputs": [
    {
     "data": {
      "text/plain": [
       "<torch._C.Generator at 0x1be3785adf0>"
      ]
     },
     "execution_count": 1,
     "metadata": {},
     "output_type": "execute_result"
    }
   ],
   "source": [
    "import os,sys\n",
    "import numpy as np\n",
    "import matplotlib.pyplot as plt\n",
    "import torch\n",
    "import torch.nn as nn\n",
    "\n",
    "from CelebA import CelebADataset as CA\n",
    "\n",
    "# GPU usage #########################################\n",
    "# dtype = torch.FloatTensor # uncomment if you are using CPU\n",
    "dtype = torch.cuda.FloatTensor # uncomment if you are using GPU\n",
    "device = torch.device(\"cuda:0\" if torch.cuda.is_available() else \"cpu\")\n",
    "\n",
    "torch.manual_seed(3)\n"
   ]
  },
  {
   "cell_type": "code",
   "execution_count": 3,
   "metadata": {},
   "outputs": [
    {
     "name": "stdout",
     "output_type": "stream",
     "text": [
      "torch.Size([1, 10, 5, 5])\n"
     ]
    }
   ],
   "source": [
    "model1 = nn.Conv2d(1,10,kernel_size=5,stride=2)\n",
    "model2 = nn.Conv2d(10,10,kernel_size=3,stride=2)\n",
    "# model.state_dict()['weight'].shape\n",
    "input = torch.rand(1,1,28,28)\n",
    "# print(input.shape)\n",
    "output = model1(input)\n",
    "output = model2(output)\n",
    "\n",
    "\n",
    "\n",
    "print(output.shape)"
   ]
  }
 ],
 "metadata": {
  "kernelspec": {
   "display_name": "Python 3",
   "language": "python",
   "name": "python3"
  },
  "language_info": {
   "codemirror_mode": {
    "name": "ipython",
    "version": 3
   },
   "file_extension": ".py",
   "mimetype": "text/x-python",
   "name": "python",
   "nbconvert_exporter": "python",
   "pygments_lexer": "ipython3",
   "version": "3.9.7"
  },
  "orig_nbformat": 4
 },
 "nbformat": 4,
 "nbformat_minor": 2
}
