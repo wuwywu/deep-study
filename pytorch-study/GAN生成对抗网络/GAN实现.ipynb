{
 "cells": [
  {
   "cell_type": "code",
   "execution_count": 5,
   "metadata": {},
   "outputs": [],
   "source": [
    "import torch\n",
    "import torch.nn as nn\n",
    "import pandas\n",
    "import matplotlib.pyplot as plt\n",
    "import numpy as np\n",
    "np.random.seed(10)\n",
    "dtype = torch.FloatTensor"
   ]
  },
  {
   "cell_type": "code",
   "execution_count": 8,
   "metadata": {},
   "outputs": [],
   "source": [
    "def generate_real():\n",
    "    real_data = torch.FloatTensor(\n",
    "            [np.random.uniform(0.8, 1.0),\n",
    "            np.random.uniform(0.0, 0.2),\n",
    "            np.random.uniform(0.8, 1.0),\n",
    "            np.random.uniform(0.0, 0.2)])     # CPU上32位浮点型\n",
    "    return real_data"
   ]
  },
  {
   "cell_type": "code",
   "execution_count": 11,
   "metadata": {},
   "outputs": [],
   "source": [
    "class Discriminator(nn.Module):\n",
    "    def __init__(self):\n",
    "        # 初始化PyTorch父类\n",
    "        super().__init__()\n",
    "\n",
    "        # 定义神经网络层\n",
    "        self.model = nn.Sequential(\n",
    "                        nn.Linear(4, 3),\n",
    "                        nn.Sigmoid(),\n",
    "                        nn.Linear(3, 1),\n",
    "                        nn.Sigmoid()\n",
    "        )\n",
    "\n",
    "        # 创建损失函数\n",
    "        self.loss_function = nn.MSELoss()\n",
    "\n",
    "        # 创建优化器, 使用随机梯度下降\n",
    "        self.optimiser = torch.optim.SGD(self.parameters(), \n",
    "                                            lr=0.01)\n",
    "        \n",
    "    def forward(self,inputs):\n",
    "        return self.model(inputs)\n",
    "    \n"
   ]
  },
  {
   "cell_type": "code",
   "execution_count": 13,
   "metadata": {},
   "outputs": [
    {
     "name": "stdout",
     "output_type": "stream",
     "text": [
      "tensor([0.8338, 0.0177, 0.9371, 0.1907])\n"
     ]
    },
    {
     "data": {
      "text/plain": [
       "tensor([0.5817], grad_fn=<SigmoidBackward0>)"
      ]
     },
     "execution_count": 13,
     "metadata": {},
     "output_type": "execute_result"
    }
   ],
   "source": [
    "aa = Discriminator()\n",
    "aa1 = generate_real()\n",
    "print(aa1)\n",
    "aa(aa1)\n"
   ]
  },
  {
   "cell_type": "code",
   "execution_count": null,
   "metadata": {},
   "outputs": [],
   "source": []
  }
 ],
 "metadata": {
  "kernelspec": {
   "display_name": "Python 3",
   "language": "python",
   "name": "python3"
  },
  "language_info": {
   "codemirror_mode": {
    "name": "ipython",
    "version": 3
   },
   "file_extension": ".py",
   "mimetype": "text/x-python",
   "name": "python",
   "nbconvert_exporter": "python",
   "pygments_lexer": "ipython3",
   "version": "3.9.7"
  },
  "orig_nbformat": 4
 },
 "nbformat": 4,
 "nbformat_minor": 2
}
