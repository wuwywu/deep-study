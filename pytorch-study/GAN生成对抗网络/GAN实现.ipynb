{
 "cells": [
  {
   "cell_type": "code",
   "execution_count": 1,
   "metadata": {},
   "outputs": [],
   "source": [
    "import torch\n",
    "import torch.nn as nn\n",
    "import pandas\n",
    "import matplotlib.pyplot as plt\n",
    "import numpy as np\n",
    "np.random.seed(10)\n",
    "dtype = torch.FloatTensor"
   ]
  },
  {
   "cell_type": "code",
   "execution_count": 2,
   "metadata": {},
   "outputs": [],
   "source": [
    "def generate_real():\n",
    "    real_data = torch.FloatTensor(\n",
    "            [np.random.uniform(0.8, 1.0),\n",
    "            np.random.uniform(0.0, 0.2),\n",
    "            np.random.uniform(0.8, 1.0),\n",
    "            np.random.uniform(0.0, 0.2)])     # CPU上32位浮点型\n",
    "    return real_data"
   ]
  },
  {
   "cell_type": "code",
   "execution_count": 4,
   "metadata": {},
   "outputs": [],
   "source": [
    "class Discriminator(nn.Module):\n",
    "    def __init__(self):\n",
    "        # 初始化PyTorch父类\n",
    "        super().__init__()\n",
    "\n",
    "        # 定义神经网络层\n",
    "        self.model = nn.Sequential(\n",
    "                        nn.Linear(4, 3),\n",
    "                        nn.Sigmoid(),\n",
    "                        nn.Linear(3, 1),\n",
    "                        nn.Sigmoid()\n",
    "        )\n",
    "\n",
    "        # 创建损失函数\n",
    "        self.loss_function = nn.MSELoss()\n",
    "\n",
    "        # 创建优化器, 使用随机梯度下降\n",
    "        self.optimiser = torch.optim.SGD(self.parameters(), \n",
    "                                            lr=0.01)\n",
    "        \n",
    "    def forward(self,inputs):\n",
    "        return self.model(inputs)\n",
    "    \n",
    "    def train(self, inputs, targets):\n",
    "        # 计算网络的输出\n",
    "        outputs = self.model(inputs)\n",
    "        \n",
    "        # 计算损失值\n",
    "        loss = self.loss_function(outputs, targets)\n",
    "\n",
    "        # 归零梯度，反向传播，并更新权重\n",
    "        self.optimiser.zero_grad()\n",
    "        loss.backward()\n",
    "        self.optimiser.step()\n",
    "\n",
    "        pass\n",
    "    \n"
   ]
  },
  {
   "cell_type": "code",
   "execution_count": 5,
   "metadata": {},
   "outputs": [
    {
     "name": "stdout",
     "output_type": "stream",
     "text": [
      "tensor([0.9543, 0.0042, 0.9267, 0.1498])\n"
     ]
    },
    {
     "data": {
      "text/plain": [
       "tensor([0.5866], grad_fn=<SigmoidBackward0>)"
      ]
     },
     "execution_count": 5,
     "metadata": {},
     "output_type": "execute_result"
    }
   ],
   "source": [
    "aa = Discriminator()\n",
    "aa1 = generate_real()\n",
    "print(aa1)\n",
    "aa(aa1)\n"
   ]
  },
  {
   "cell_type": "code",
   "execution_count": null,
   "metadata": {},
   "outputs": [],
   "source": []
  }
 ],
 "metadata": {
  "kernelspec": {
   "display_name": "Python 3",
   "language": "python",
   "name": "python3"
  },
  "language_info": {
   "codemirror_mode": {
    "name": "ipython",
    "version": 3
   },
   "file_extension": ".py",
   "mimetype": "text/x-python",
   "name": "python",
   "nbconvert_exporter": "python",
   "pygments_lexer": "ipython3",
   "version": "3.9.7"
  },
  "orig_nbformat": 4
 },
 "nbformat": 4,
 "nbformat_minor": 2
}
