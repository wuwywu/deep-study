{
 "cells": [
  {
   "cell_type": "code",
   "execution_count": 3,
   "metadata": {},
   "outputs": [],
   "source": [
    "import torch\n",
    "import torch.nn as nn\n",
    "import pandas\n",
    "import matplotlib.pyplot as plt\n",
    "import numpy as np\n",
    "np.random.seed(10)\n",
    "dtype = torch.FloatTensor"
   ]
  },
  {
   "cell_type": "code",
   "execution_count": 4,
   "metadata": {},
   "outputs": [],
   "source": [
    "def generate_real():\n",
    "    real_data = torch.FloatTensor(\n",
    "            [np.random.uniform(0.8, 1.0),\n",
    "            np.random.uniform(0.0, 0.2),\n",
    "            np.random.uniform(0.8, 1.0),\n",
    "            np.random.uniform(0.0, 0.2)])     # CPU上32位浮点型\n",
    "    return real_data\n",
    "\n",
    "def generate_random(size=4):\n",
    "        random_data = torch.rand(size)\n",
    "        return random_data"
   ]
  },
  {
   "attachments": {},
   "cell_type": "markdown",
   "metadata": {},
   "source": [
    "# 鉴别器"
   ]
  },
  {
   "cell_type": "code",
   "execution_count": 33,
   "metadata": {},
   "outputs": [],
   "source": [
    "class Discriminator(nn.Module):\n",
    "    def __init__(self):\n",
    "        # 初始化PyTorch父类\n",
    "        super().__init__()\n",
    "\n",
    "        # 定义神经网络层\n",
    "        self.model = nn.Sequential(\n",
    "                        nn.Linear(4, 3),\n",
    "                        nn.Sigmoid(),\n",
    "                        nn.Linear(3, 1),\n",
    "                        nn.Sigmoid()\n",
    "        )\n",
    "\n",
    "        # 创建损失函数\n",
    "        self.loss_function = nn.MSELoss()\n",
    "\n",
    "        # 创建优化器, 使用随机梯度下降\n",
    "        self.optimiser = torch.optim.SGD(self.parameters(), \n",
    "                                            lr=0.01)\n",
    "        \n",
    "        # 计数器和进程记录\n",
    "        self.counter = 0\n",
    "        self.progress = []\n",
    "                \n",
    "    def forward(self,inputs):\n",
    "        return self.model(inputs)\n",
    "    \n",
    "    def train(self, inputs, targets):\n",
    "        # 计算网络的输出\n",
    "        outputs = self.model(inputs)\n",
    "        \n",
    "        # 计算损失值\n",
    "        loss = self.loss_function(outputs, targets)\n",
    "        \n",
    "        # 每训练10次增加计数器\n",
    "        if (self.counter % 10 == 0):    self.progress.append(loss.item())\n",
    "\n",
    "        if (self.counter % 10000 == 0): print(\"counter = \", self.counter)\n",
    "\n",
    "        # 归零梯度，反向传播，并更新权重\n",
    "        self.optimiser.zero_grad()\n",
    "        loss.backward()\n",
    "        self.optimiser.step()\n",
    "\n",
    "        self.counter += 1\n",
    "\n",
    "        pass\n",
    "    \n",
    "    def plot_progress(self):\n",
    "        plt.scatter(np.arange(1, int(self.counter/10)+1),self.progress,s=10,c=\"tab:pink\",label=\"Discriminator loss\")\n",
    "        plt.xlabel(\"time/10\") \n",
    "        plt.ylabel(\"loss\")\n",
    "        \n",
    "        plt.show()\n",
    "        pass"
   ]
  },
  {
   "cell_type": "code",
   "execution_count": 35,
   "metadata": {},
   "outputs": [
    {
     "name": "stdout",
     "output_type": "stream",
     "text": [
      "counter =  0\n",
      "counter =  10000\n",
      "counter =  20000\n",
      "counter =  30000\n"
     ]
    },
    {
     "data": {
      "image/png": "[encoded data removed]",
      "text/plain": [
       "<Figure size 640x480 with 1 Axes>"
      ]
     },
     "metadata": {},
     "output_type": "display_data"
    },
    {
     "name": "stdout",
     "output_type": "stream",
     "text": [
      "CPU times: total: 13.5 s\n",
      "Wall time: 13.7 s\n"
     ]
    },
    {
     "data": {
      "text/plain": [
       "4000"
      ]
     },
     "execution_count": 35,
     "metadata": {},
     "output_type": "execute_result"
    }
   ],
   "source": [
    "%%time\n",
    "\n",
    "# 查看鉴别器\n",
    "D = Discriminator()\n",
    "for i in range(20000):\n",
    "    # 正确值\n",
    "    D.train(generate_real(), torch.FloatTensor([1.0]))\n",
    "        \n",
    "    # 错误值\n",
    "    D.train(generate_random(), torch.FloatTensor([0.0]))\n",
    "\n",
    "D.plot_progress()\n",
    "         \n",
    "len(D.progress)  \n"
   ]
  },
  {
   "cell_type": "code",
   "execution_count": 41,
   "metadata": {},
   "outputs": [
    {
     "data": {
      "text/plain": [
       "tensor([0.9128], grad_fn=<SigmoidBackward0>)"
      ]
     },
     "execution_count": 41,
     "metadata": {},
     "output_type": "execute_result"
    }
   ],
   "source": [
    "D.forward(torch.FloatTensor([0.9,0.1,0.99,0.02]))"
   ]
  },
  {
   "attachments": {},
   "cell_type": "markdown",
   "metadata": {},
   "source": [
    "# 生成器"
   ]
  },
  {
   "cell_type": "code",
   "execution_count": 42,
   "metadata": {},
   "outputs": [],
   "source": [
    "class Generator(nn.Module):\n",
    "    def __init__(self):\n",
    "        # 初始化PyTorch父类\n",
    "        super().__init__()\n",
    "\n",
    "        # 定义神经网络层\n",
    "        self.model = nn.Sequential(\n",
    "                    nn.Linear(1, 3),\n",
    "                    nn.Sigmoid(),\n",
    "                    nn.Linear(3, 4),\n",
    "                    nn.Sigmoid()\n",
    "        )\n",
    "\n",
    "        # 创建优化器，使用随机梯度下降\n",
    "        self.optimiser = torch.optim.SGD(self.parameters(), \n",
    "                                            lr=0.01)\n",
    "        \n",
    "        # 计数器和进程记录\n",
    "        self.counter = 0\n",
    "        self.progress = []\n",
    "\n",
    "    def forward(self, inputs):\n",
    "        # 直接运行模型\n",
    "        return self.model(inputs)\n",
    "    \n",
    "    def train(self, D, inputs, targets):\n",
    "        # 计算网络输出\n",
    "        g_output = self.forward(inputs)\n",
    "\n",
    "        # 输入鉴别器\n",
    "        d_output = D.forward(g_output)\n",
    "\n",
    "        # 计算损失值\n",
    "        loss = D.loss_function(d_output, targets)\n",
    "\n",
    "        # 每训练10次增加计数器\n",
    "        if (self.counter % 10 == 0):    self.progress.append(loss.item())\n",
    "\n",
    "        # 归零梯度，反向传播，并更新权重\n",
    "        self.optimiser.zero_grad()\n",
    "        loss.backward()\n",
    "        self.optimiser.step()\n",
    "\n",
    "        self.counter += 1\n",
    "    \n",
    "    def plot_progress(self):\n",
    "        plt.scatter(np.arange(1, int(self.counter/10)+1),self.progress,s=10,c=\"tab:pink\",label=\"Generator loss\")\n",
    "        plt.xlabel(\"time/10\") \n",
    "        plt.ylabel(\"loss\")\n",
    "        \n",
    "        plt.show()\n",
    "        pass"
   ]
  },
  {
   "cell_type": "code",
   "execution_count": 43,
   "metadata": {},
   "outputs": [],
   "source": [
    "# 创建生成器和鉴别器\n",
    "D = Discriminator()\n",
    "G = Generator()\n",
    "\n",
    "# 训练\n",
    "for i in range(20000):\n",
    "    # 正确值\n",
    "    D.train(generate_real(), torch.FloatTensor([1.0]))\n",
    "\n",
    "    # 用生成器生成的数据训练鉴别器（错误 0.0）\n",
    "    D.train(G.forward(torch.FloatTensor([1.0])).detach(), torch.FloatTensor([0.0]))\n",
    "\n",
    "    # 用生成器生成的数据训练生成器(错误 1.0）\n",
    "    G.train(D, torch.FloatTensor([1.0]), torch.FloatTensor([1.0]))\n",
    "    \n",
    "    pass\n"
   ]
  }
 ],
 "metadata": {
  "kernelspec": {
   "display_name": "Python 3",
   "language": "python",
   "name": "python3"
  },
  "language_info": {
   "codemirror_mode": {
    "name": "ipython",
    "version": 3
   },
   "file_extension": ".py",
   "mimetype": "text/x-python",
   "name": "python",
   "nbconvert_exporter": "python",
   "pygments_lexer": "ipython3",
   "version": "3.9.7"
  },
  "orig_nbformat": 4,
  "vscode": {
   "interpreter": {
    "hash": "1a3a442efc16a0e4c37367fb59b0d021e0b57bdad1868da760befccaaddad452"
   }
  }
 },
 "nbformat": 4,
 "nbformat_minor": 2
}
