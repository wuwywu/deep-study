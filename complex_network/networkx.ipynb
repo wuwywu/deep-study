{
 "cells": [
  {
   "attachments": {},
   "cell_type": "markdown",
   "metadata": {},
   "source": [
    "# `networkx`\n",
    "`networkx` 支持创建简单无向图、有向图和多重图；内置许多标准的`图论算法`，节点可为任意数据；支持任意的边值维度，功能丰富，简单易用"
   ]
  },
  {
   "cell_type": "code",
   "execution_count": 1,
   "metadata": {},
   "outputs": [],
   "source": [
    "# %matplotlib widget\n",
    "import networkx as nx\n",
    "import matplotlib.pyplot as plt"
   ]
  },
  {
   "attachments": {},
   "cell_type": "markdown",
   "metadata": {},
   "source": [
    "# `networkx` 中的 `Graph`\n",
    "## `Graph` 的定义\n",
    "`Graph` 是用点和线来刻画离散事物集合中的每对事物间以某种方式相联系的数学模型\n",
    "\n",
    "网络作为图的一个重要领域，包含的概念与定义更多，如有向图网络、无向图网络等\n",
    "\n",
    "`Graph` 在现实世界中随处可见，如交通运输图、旅游图、流程图等。此处我们只考虑由点和线所组成的图\n",
    "\n",
    "## `Graph` 的结构\n",
    "一个 `Graph` 包含一个节点集合和一个边集\n",
    "\n",
    "在 `networkx` 中，一个节点可以是任意 `hash` 对象（除了 `None` 对象），一条边也可以关联任意的对象,像一个文本字符串，一幅图像，一个 XML 对象，甚至是另一个图或任意定制的节点对象\n",
    "\n",
    "## `Graph` 的分类\n",
    "- `Graph`：指无向图（undirected Graph），即忽略了两个节点间连边的方向\n",
    "- `DiGraph`：指有向图（directed Graph），即考虑了两个节点之间连边的有向性\n",
    "- `MultiGraph`：指多重无向图，即两个结点之间的边数多于一条，又允许顶点通过同一条边和自己关联（**即允许重边和自环**）\n",
    "- `MultiDiGraph`：多重有向图"
   ]
  },
  {
   "attachments": {},
   "cell_type": "markdown",
   "metadata": {},
   "source": [
    "# `networkx` 语法\n",
    "**节点操作**\n",
    "\n",
    "**添加节点**\n",
    "> 如果添加的节点和边是已经存在的，是不会报错的， `networkx` 会自动忽略掉已经存在的边和节点的添加"
   ]
  },
  {
   "cell_type": "code",
   "execution_count": 2,
   "metadata": {},
   "outputs": [],
   "source": [
    "G = nx.Graph()                              # 建立一个空的无向图G"
   ]
  },
  {
   "cell_type": "code",
   "execution_count": 91,
   "metadata": {},
   "outputs": [
    {
     "name": "stdout",
     "output_type": "stream",
     "text": [
      "Graph with 2 nodes and 0 edges\n"
     ]
    },
    {
     "data": {
      "image/png": "[encoded data removed]",
      "text/plain": [
       "<Figure size 640x480 with 1 Axes>"
      ]
     },
     "metadata": {},
     "output_type": "display_data"
    }
   ],
   "source": [
    "# 添加节点\n",
    "G.clear()                                   # 清空图\n",
    "G.add_node('a',pos=(1,1))                             # 添加一个节点a\n",
    "G.add_node('f',pos=(1,2))                             # 添加一个节点a\n",
    "# G.add_nodes_from(['b','c','d','e'])         # 从一个列表中添加节点\n",
    "\n",
    "# H = nx.path_graph(10)                       # 返回由10个节点挨个连接的无向图，有9条边\n",
    "\n",
    "# G.add_nodes_from(H)                         # 创建一个子图H(子图中的节点)加入G\n",
    "print(G)\n",
    "# print(nx.degree_histogram(G))\n",
    "nx.draw(G, with_labels=True)\n",
    "plt.show()"
   ]
  },
  {
   "cell_type": "code",
   "execution_count": null,
   "metadata": {},
   "outputs": [],
   "source": []
  }
 ],
 "metadata": {
  "kernelspec": {
   "display_name": "Python 3",
   "language": "python",
   "name": "python3"
  },
  "language_info": {
   "codemirror_mode": {
    "name": "ipython",
    "version": 3
   },
   "file_extension": ".py",
   "mimetype": "text/x-python",
   "name": "python",
   "nbconvert_exporter": "python",
   "pygments_lexer": "ipython3",
   "version": "3.9.12"
  },
  "orig_nbformat": 4
 },
 "nbformat": 4,
 "nbformat_minor": 2
}
